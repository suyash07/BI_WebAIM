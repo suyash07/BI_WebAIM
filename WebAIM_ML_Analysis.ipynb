{
 "cells": [
  {
   "cell_type": "code",
   "execution_count": 1,
   "metadata": {},
   "outputs": [],
   "source": [
    "import numpy as np\n",
    "import matplotlib.pyplot as plt, matplotlib.image as mpimg\n",
    "import pandas as pd\n",
    "from sklearn.model_selection import train_test_split\n",
    "import seaborn as sns\n",
    "%matplotlib inline\n"
   ]
  },
  {
   "cell_type": "code",
   "execution_count": 2,
   "metadata": {},
   "outputs": [],
   "source": [
    "million = pd.read_csv('/Users/mckla/Documents/GitHub/WebAIM-Data/Million.csv', sep=';')"
   ]
  },
  {
   "cell_type": "code",
   "execution_count": 3,
   "metadata": {},
   "outputs": [
    {
     "name": "stdout",
     "output_type": "stream",
     "text": [
      "<class 'pandas.core.frame.DataFrame'>\n",
      "RangeIndex: 1000000 entries, 0 to 999999\n",
      "Columns: 170 entries, rank to WebFrameworks - ZURB Foundation\n",
      "dtypes: float64(2), int64(165), object(3)\n",
      "memory usage: 1.3+ GB\n"
     ]
    }
   ],
   "source": [
    "million.info()"
   ]
  },
  {
   "cell_type": "code",
   "execution_count": 24,
   "metadata": {},
   "outputs": [
    {
     "data": {
      "text/html": [
       "<div>\n",
       "<style scoped>\n",
       "    .dataframe tbody tr th:only-of-type {\n",
       "        vertical-align: middle;\n",
       "    }\n",
       "\n",
       "    .dataframe tbody tr th {\n",
       "        vertical-align: top;\n",
       "    }\n",
       "\n",
       "    .dataframe thead th {\n",
       "        text-align: right;\n",
       "    }\n",
       "</style>\n",
       "<table border=\"1\" class=\"dataframe\">\n",
       "  <thead>\n",
       "    <tr style=\"text-align: right;\">\n",
       "      <th></th>\n",
       "      <th>rank</th>\n",
       "      <th>URL</th>\n",
       "      <th>TLD</th>\n",
       "      <th>processtime</th>\n",
       "      <th>totalerrors</th>\n",
       "      <th>totalelements</th>\n",
       "      <th>errordensity</th>\n",
       "      <th>totalalerts</th>\n",
       "      <th>accessrank</th>\n",
       "      <th>doctype</th>\n",
       "      <th>...</th>\n",
       "      <th>Libraries - Zepto</th>\n",
       "      <th>Google Maps</th>\n",
       "      <th>Java</th>\n",
       "      <th>PHP</th>\n",
       "      <th>WebFrameworks - animate.css</th>\n",
       "      <th>WebFrameworks - Bootstrap</th>\n",
       "      <th>WebFrameworks - CodeIgniter</th>\n",
       "      <th>WebFrameworks - Laravel</th>\n",
       "      <th>WebFrameworks - Microsoft ASP.NET</th>\n",
       "      <th>WebFrameworks - ZURB Foundation</th>\n",
       "    </tr>\n",
       "  </thead>\n",
       "  <tbody>\n",
       "    <tr>\n",
       "      <th>0</th>\n",
       "      <td>1</td>\n",
       "      <td>google.com</td>\n",
       "      <td>com</td>\n",
       "      <td>3.21</td>\n",
       "      <td>5</td>\n",
       "      <td>410</td>\n",
       "      <td>0.0122</td>\n",
       "      <td>4</td>\n",
       "      <td>74265</td>\n",
       "      <td>&lt;!DOCTYPE html&gt;</td>\n",
       "      <td>...</td>\n",
       "      <td>0</td>\n",
       "      <td>0</td>\n",
       "      <td>0</td>\n",
       "      <td>0</td>\n",
       "      <td>0</td>\n",
       "      <td>0</td>\n",
       "      <td>0</td>\n",
       "      <td>0</td>\n",
       "      <td>0</td>\n",
       "      <td>0</td>\n",
       "    </tr>\n",
       "    <tr>\n",
       "      <th>1</th>\n",
       "      <td>2</td>\n",
       "      <td>facebook.com</td>\n",
       "      <td>com</td>\n",
       "      <td>4.00</td>\n",
       "      <td>10</td>\n",
       "      <td>595</td>\n",
       "      <td>0.0168</td>\n",
       "      <td>12</td>\n",
       "      <td>135794</td>\n",
       "      <td>&lt;!DOCTYPE html&gt;</td>\n",
       "      <td>...</td>\n",
       "      <td>0</td>\n",
       "      <td>0</td>\n",
       "      <td>0</td>\n",
       "      <td>0</td>\n",
       "      <td>0</td>\n",
       "      <td>0</td>\n",
       "      <td>0</td>\n",
       "      <td>0</td>\n",
       "      <td>0</td>\n",
       "      <td>0</td>\n",
       "    </tr>\n",
       "    <tr>\n",
       "      <th>2</th>\n",
       "      <td>3</td>\n",
       "      <td>youtube.com</td>\n",
       "      <td>com</td>\n",
       "      <td>5.45</td>\n",
       "      <td>43</td>\n",
       "      <td>2056</td>\n",
       "      <td>0.0209</td>\n",
       "      <td>68</td>\n",
       "      <td>439632</td>\n",
       "      <td>&lt;!DOCTYPE html&gt;</td>\n",
       "      <td>...</td>\n",
       "      <td>0</td>\n",
       "      <td>0</td>\n",
       "      <td>0</td>\n",
       "      <td>0</td>\n",
       "      <td>0</td>\n",
       "      <td>0</td>\n",
       "      <td>0</td>\n",
       "      <td>0</td>\n",
       "      <td>0</td>\n",
       "      <td>0</td>\n",
       "    </tr>\n",
       "    <tr>\n",
       "      <th>3</th>\n",
       "      <td>4</td>\n",
       "      <td>twitter.com</td>\n",
       "      <td>com</td>\n",
       "      <td>2.94</td>\n",
       "      <td>37</td>\n",
       "      <td>669</td>\n",
       "      <td>0.0553</td>\n",
       "      <td>13</td>\n",
       "      <td>501528</td>\n",
       "      <td>&lt;!DOCTYPE html&gt;</td>\n",
       "      <td>...</td>\n",
       "      <td>0</td>\n",
       "      <td>0</td>\n",
       "      <td>0</td>\n",
       "      <td>0</td>\n",
       "      <td>0</td>\n",
       "      <td>0</td>\n",
       "      <td>0</td>\n",
       "      <td>0</td>\n",
       "      <td>0</td>\n",
       "      <td>0</td>\n",
       "    </tr>\n",
       "    <tr>\n",
       "      <th>4</th>\n",
       "      <td>5</td>\n",
       "      <td>microsoft.com</td>\n",
       "      <td>com</td>\n",
       "      <td>4.32</td>\n",
       "      <td>0</td>\n",
       "      <td>647</td>\n",
       "      <td>0.0000</td>\n",
       "      <td>11</td>\n",
       "      <td>2396</td>\n",
       "      <td>&lt;!DOCTYPE html&gt;</td>\n",
       "      <td>...</td>\n",
       "      <td>0</td>\n",
       "      <td>0</td>\n",
       "      <td>0</td>\n",
       "      <td>0</td>\n",
       "      <td>0</td>\n",
       "      <td>0</td>\n",
       "      <td>0</td>\n",
       "      <td>0</td>\n",
       "      <td>0</td>\n",
       "      <td>0</td>\n",
       "    </tr>\n",
       "  </tbody>\n",
       "</table>\n",
       "<p>5 rows × 170 columns</p>\n",
       "</div>"
      ],
      "text/plain": [
       "   rank            URL  TLD  processtime  totalerrors  totalelements  \\\n",
       "0     1     google.com  com         3.21            5            410   \n",
       "1     2   facebook.com  com         4.00           10            595   \n",
       "2     3    youtube.com  com         5.45           43           2056   \n",
       "3     4    twitter.com  com         2.94           37            669   \n",
       "4     5  microsoft.com  com         4.32            0            647   \n",
       "\n",
       "   errordensity  totalalerts  accessrank          doctype  ...  \\\n",
       "0        0.0122            4       74265  <!DOCTYPE html>  ...   \n",
       "1        0.0168           12      135794  <!DOCTYPE html>  ...   \n",
       "2        0.0209           68      439632  <!DOCTYPE html>  ...   \n",
       "3        0.0553           13      501528  <!DOCTYPE html>  ...   \n",
       "4        0.0000           11        2396  <!DOCTYPE html>  ...   \n",
       "\n",
       "   Libraries - Zepto  Google Maps  Java  PHP  WebFrameworks - animate.css  \\\n",
       "0                  0            0     0    0                            0   \n",
       "1                  0            0     0    0                            0   \n",
       "2                  0            0     0    0                            0   \n",
       "3                  0            0     0    0                            0   \n",
       "4                  0            0     0    0                            0   \n",
       "\n",
       "   WebFrameworks - Bootstrap  WebFrameworks - CodeIgniter  \\\n",
       "0                          0                            0   \n",
       "1                          0                            0   \n",
       "2                          0                            0   \n",
       "3                          0                            0   \n",
       "4                          0                            0   \n",
       "\n",
       "   WebFrameworks - Laravel  WebFrameworks - Microsoft ASP.NET  \\\n",
       "0                        0                                  0   \n",
       "1                        0                                  0   \n",
       "2                        0                                  0   \n",
       "3                        0                                  0   \n",
       "4                        0                                  0   \n",
       "\n",
       "   WebFrameworks - ZURB Foundation  \n",
       "0                                0  \n",
       "1                                0  \n",
       "2                                0  \n",
       "3                                0  \n",
       "4                                0  \n",
       "\n",
       "[5 rows x 170 columns]"
      ]
     },
     "execution_count": 24,
     "metadata": {},
     "output_type": "execute_result"
    }
   ],
   "source": [
    "million.head()"
   ]
  },
  {
   "cell_type": "code",
   "execution_count": 7,
   "metadata": {},
   "outputs": [],
   "source": [
    "#possible target variables  \n",
    "\n",
    "# Totalerrors / totalelements = errordensity \n",
    "#access rank"
   ]
  },
  {
   "cell_type": "code",
   "execution_count": 25,
   "metadata": {
    "collapsed": true,
    "jupyter": {
     "outputs_hidden": true
    }
   },
   "outputs": [
    {
     "name": "stdout",
     "output_type": "stream",
     "text": [
      "rank                                 0\n",
      "URL                                  0\n",
      "TLD                                  0\n",
      "processtime                          0\n",
      "totalerrors                          0\n",
      "totalelements                        0\n",
      "errordensity                         0\n",
      "totalalerts                          0\n",
      "accessrank                           0\n",
      "doctype                              0\n",
      "wcagfail                             0\n",
      "wcagimgfail                          0\n",
      "contrast                             0\n",
      "alt_area_missing                     0\n",
      "alt_input_missing                    0\n",
      "alt_link_missing                     0\n",
      "alt_map_missing                      0\n",
      "alt_missing                          0\n",
      "alt_spacer_missing                   0\n",
      "aria_reference_broken                0\n",
      "blink                                0\n",
      "button_empty                         0\n",
      "heading_empty                        0\n",
      "label_empty                          0\n",
      "label_missing                        0\n",
      "label_multiple                       0\n",
      "language_missing                     0\n",
      "link_empty                           0\n",
      "link_skip_broken                     0\n",
      "longdesc_invalid                     0\n",
      "marquee                              0\n",
      "meta_refresh                         0\n",
      "server_image_map                     0\n",
      "th_empty                             0\n",
      "title_invalid                        0\n",
      "accesskey                            0\n",
      "alt_duplicate                        0\n",
      "alt_long                             0\n",
      "alt_redundant                        0\n",
      "alt_suspicious                       0\n",
      "applet                               0\n",
      "audio_video                          0\n",
      "event_handler                        0\n",
      "fieldset_missing                     0\n",
      "flash                                0\n",
      "h1_missing                           0\n",
      "heading_missing                      0\n",
      "heading_possible                     0\n",
      "heading_skipped                      0\n",
      "javascript_jumpmenu                  0\n",
      "label_orphaned                       0\n",
      "label_title                          0\n",
      "legend_missing                       0\n",
      "link_document                        0\n",
      "link_excel                           0\n",
      "link_internal_broken                 0\n",
      "link_pdf                             0\n",
      "link_powerpoint                      0\n",
      "link_redundant                       0\n",
      "link_suspicious                      0\n",
      "link_word                            0\n",
      "noscript                             0\n",
      "plugin                               0\n",
      "tabindex                             0\n",
      "table_caption_possible               0\n",
      "text_small                           0\n",
      "title_redundant                      0\n",
      "underline                            0\n",
      "text_justified                       0\n",
      "alt                                  0\n",
      "alt_area                             0\n",
      "alt_input                            0\n",
      "alt_link                             0\n",
      "alt_map                              0\n",
      "alt_null                             0\n",
      "alt_spacer                           0\n",
      "fieldset                             0\n",
      "label                                0\n",
      "lang                                 0\n",
      "link_skip                            0\n",
      "link_skip_target                     0\n",
      "longdesc                             0\n",
      "totalaria                            0\n",
      "aria                                 0\n",
      "aria_label                           0\n",
      "aria_search                          0\n",
      "aria_tabindex                        0\n",
      "html5_footer                         0\n",
      "html5_aside                          0\n",
      "html5_header                         0\n",
      "html5_main                           0\n",
      "html5_nav                            0\n",
      "html5_video_audio                    0\n",
      "dl                                   0\n",
      "h1                                   0\n",
      "h2                                   0\n",
      "h3                                   0\n",
      "h4                                   0\n",
      "h5                                   0\n",
      "h6                                   0\n",
      "iframe                               0\n",
      "ol                                   0\n",
      "table_caption                        0\n",
      "table_data                           0\n",
      "table_layout                         0\n",
      "th                                   0\n",
      "th_col                               0\n",
      "th_row                               0\n",
      "ul                                   0\n",
      "Ads - AdSense                        0\n",
      "Ads - DoubleClick                    0\n",
      "Ads - Criteo                         0\n",
      "Ads - Prebid                         0\n",
      "Ads - AppNexus                       0\n",
      "Ads - AdRoll                         0\n",
      "Ads - VigLink                        0\n",
      "Ads - Yandex.Direct                  0\n",
      "ReCAPTCHA                            0\n",
      "CMS - Blogger                        0\n",
      "CMS - Elementor                      0\n",
      "CMS - 1C-Bitrix                      0\n",
      "CMS - Drupal                         0\n",
      "CMS - Joomla                         0\n",
      "CMS - Rocket                         0\n",
      "CMS - Squarespace                    0\n",
      "CMS - TYPO3 CMS                      0\n",
      "CMS - Weebly                         0\n",
      "CMS - Wix                            0\n",
      "CMS - WordPress                      0\n",
      "Frameworks - Angular                 0\n",
      "Frameworks - Backbone.js             0\n",
      "Frameworks - Handlebars              0\n",
      "Frameworks - Knockout.js             0\n",
      "Frameworks - MooTools                0\n",
      "Frameworks - Mustache                0\n",
      "Frameworks - Prototype               0\n",
      "Frameworks - React                   0\n",
      "Frameworks - RequireJS               0\n",
      "Frameworks - TweenMax                0\n",
      "Frameworks - Vue.js                  0\n",
      "Libraries - Dojo                     0\n",
      "Libraries - FancyBox                 0\n",
      "Libraries - Fingerprintjs            0\n",
      "Libraries - Flickity                 0\n",
      "Libraries - Hammer.js                0\n",
      "Libraries - jQuery                   0\n",
      "Libraries - jQuery Migrate           0\n",
      "Libraries - jQuery UI                0\n",
      "Libraries - Lazy.js                  0\n",
      "Libraries - Lightbox                 0\n",
      "Libraries - Lodash                   0\n",
      "Libraries - Modernizr                0\n",
      "Libraries - Moment.js                0\n",
      "Libraries - prettyPhoto              0\n",
      "Libraries - script.aculo.us          0\n",
      "Libraries - Select2                  0\n",
      "Libraries - Slick                    0\n",
      "Libraries - SoundManager             0\n",
      "Libraries - Underscore.js            0\n",
      "Libraries - YUI                      0\n",
      "Libraries - Zepto                    0\n",
      "Google Maps                          0\n",
      "Java                                 0\n",
      "PHP                                  0\n",
      "WebFrameworks - animate.css          0\n",
      "WebFrameworks - Bootstrap            0\n",
      "WebFrameworks - CodeIgniter          0\n",
      "WebFrameworks - Laravel              0\n",
      "WebFrameworks - Microsoft ASP.NET    0\n",
      "WebFrameworks - ZURB Foundation      0\n",
      "dtype: int64\n"
     ]
    }
   ],
   "source": [
    "with pd.option_context('display.max_rows', None, 'display.max_columns', None):  # more options can be specified also\n",
    "    print(million.isnull().sum())"
   ]
  },
  {
   "cell_type": "markdown",
   "metadata": {},
   "source": [
    "No null values. nothing to impute or nulls to remove"
   ]
  },
  {
   "cell_type": "markdown",
   "metadata": {},
   "source": [
    "one hot encode doctype"
   ]
  },
  {
   "cell_type": "markdown",
   "metadata": {},
   "source": [
    "# After meeting with stakeholder, he stated that we don't need the doctype, so no reason to one hot encode it."
   ]
  },
  {
   "cell_type": "code",
   "execution_count": 11,
   "metadata": {},
   "outputs": [],
   "source": [
    "#cat_columns = ['doctype']\n",
    "#million_processed = pd.get_dummies(million, prefix_sep=\"__\", columns=cat_columns)\n",
    "#million_processed\n",
    "#with pd.option_context('display.max_rows', None, 'display.max_columns', None):  # more options can be specified also\n",
    "#    print(million_processed.isnull().sum())\n",
    "#million_processed.shape"
   ]
  },
  {
   "cell_type": "markdown",
   "metadata": {},
   "source": [
    "# He also stated that error density is probably not the best target variable. He suggested that we look at Error counts or Error averages. "
   ]
  },
  {
   "cell_type": "code",
   "execution_count": 26,
   "metadata": {
    "collapsed": true,
    "jupyter": {
     "outputs_hidden": true
    }
   },
   "outputs": [
    {
     "data": {
      "text/html": [
       "<div>\n",
       "<style scoped>\n",
       "    .dataframe tbody tr th:only-of-type {\n",
       "        vertical-align: middle;\n",
       "    }\n",
       "\n",
       "    .dataframe tbody tr th {\n",
       "        vertical-align: top;\n",
       "    }\n",
       "\n",
       "    .dataframe thead th {\n",
       "        text-align: right;\n",
       "    }\n",
       "</style>\n",
       "<table border=\"1\" class=\"dataframe\">\n",
       "  <thead>\n",
       "    <tr style=\"text-align: right;\">\n",
       "      <th></th>\n",
       "      <th>rank</th>\n",
       "      <th>URL</th>\n",
       "      <th>TLD</th>\n",
       "      <th>processtime</th>\n",
       "      <th>totalerrors</th>\n",
       "      <th>totalelements</th>\n",
       "      <th>errordensity</th>\n",
       "      <th>totalalerts</th>\n",
       "      <th>accessrank</th>\n",
       "      <th>doctype</th>\n",
       "      <th>...</th>\n",
       "      <th>Libraries - Zepto</th>\n",
       "      <th>Google Maps</th>\n",
       "      <th>Java</th>\n",
       "      <th>PHP</th>\n",
       "      <th>WebFrameworks - animate.css</th>\n",
       "      <th>WebFrameworks - Bootstrap</th>\n",
       "      <th>WebFrameworks - CodeIgniter</th>\n",
       "      <th>WebFrameworks - Laravel</th>\n",
       "      <th>WebFrameworks - Microsoft ASP.NET</th>\n",
       "      <th>WebFrameworks - ZURB Foundation</th>\n",
       "    </tr>\n",
       "  </thead>\n",
       "  <tbody>\n",
       "    <tr>\n",
       "      <th>0</th>\n",
       "      <td>1</td>\n",
       "      <td>google.com</td>\n",
       "      <td>com</td>\n",
       "      <td>3.21</td>\n",
       "      <td>5</td>\n",
       "      <td>410</td>\n",
       "      <td>0.0122</td>\n",
       "      <td>4</td>\n",
       "      <td>74265</td>\n",
       "      <td>&lt;!DOCTYPE html&gt;</td>\n",
       "      <td>...</td>\n",
       "      <td>0</td>\n",
       "      <td>0</td>\n",
       "      <td>0</td>\n",
       "      <td>0</td>\n",
       "      <td>0</td>\n",
       "      <td>0</td>\n",
       "      <td>0</td>\n",
       "      <td>0</td>\n",
       "      <td>0</td>\n",
       "      <td>0</td>\n",
       "    </tr>\n",
       "    <tr>\n",
       "      <th>1</th>\n",
       "      <td>2</td>\n",
       "      <td>facebook.com</td>\n",
       "      <td>com</td>\n",
       "      <td>4.00</td>\n",
       "      <td>10</td>\n",
       "      <td>595</td>\n",
       "      <td>0.0168</td>\n",
       "      <td>12</td>\n",
       "      <td>135794</td>\n",
       "      <td>&lt;!DOCTYPE html&gt;</td>\n",
       "      <td>...</td>\n",
       "      <td>0</td>\n",
       "      <td>0</td>\n",
       "      <td>0</td>\n",
       "      <td>0</td>\n",
       "      <td>0</td>\n",
       "      <td>0</td>\n",
       "      <td>0</td>\n",
       "      <td>0</td>\n",
       "      <td>0</td>\n",
       "      <td>0</td>\n",
       "    </tr>\n",
       "    <tr>\n",
       "      <th>2</th>\n",
       "      <td>3</td>\n",
       "      <td>youtube.com</td>\n",
       "      <td>com</td>\n",
       "      <td>5.45</td>\n",
       "      <td>43</td>\n",
       "      <td>2056</td>\n",
       "      <td>0.0209</td>\n",
       "      <td>68</td>\n",
       "      <td>439632</td>\n",
       "      <td>&lt;!DOCTYPE html&gt;</td>\n",
       "      <td>...</td>\n",
       "      <td>0</td>\n",
       "      <td>0</td>\n",
       "      <td>0</td>\n",
       "      <td>0</td>\n",
       "      <td>0</td>\n",
       "      <td>0</td>\n",
       "      <td>0</td>\n",
       "      <td>0</td>\n",
       "      <td>0</td>\n",
       "      <td>0</td>\n",
       "    </tr>\n",
       "    <tr>\n",
       "      <th>3</th>\n",
       "      <td>4</td>\n",
       "      <td>twitter.com</td>\n",
       "      <td>com</td>\n",
       "      <td>2.94</td>\n",
       "      <td>37</td>\n",
       "      <td>669</td>\n",
       "      <td>0.0553</td>\n",
       "      <td>13</td>\n",
       "      <td>501528</td>\n",
       "      <td>&lt;!DOCTYPE html&gt;</td>\n",
       "      <td>...</td>\n",
       "      <td>0</td>\n",
       "      <td>0</td>\n",
       "      <td>0</td>\n",
       "      <td>0</td>\n",
       "      <td>0</td>\n",
       "      <td>0</td>\n",
       "      <td>0</td>\n",
       "      <td>0</td>\n",
       "      <td>0</td>\n",
       "      <td>0</td>\n",
       "    </tr>\n",
       "    <tr>\n",
       "      <th>4</th>\n",
       "      <td>5</td>\n",
       "      <td>microsoft.com</td>\n",
       "      <td>com</td>\n",
       "      <td>4.32</td>\n",
       "      <td>0</td>\n",
       "      <td>647</td>\n",
       "      <td>0.0000</td>\n",
       "      <td>11</td>\n",
       "      <td>2396</td>\n",
       "      <td>&lt;!DOCTYPE html&gt;</td>\n",
       "      <td>...</td>\n",
       "      <td>0</td>\n",
       "      <td>0</td>\n",
       "      <td>0</td>\n",
       "      <td>0</td>\n",
       "      <td>0</td>\n",
       "      <td>0</td>\n",
       "      <td>0</td>\n",
       "      <td>0</td>\n",
       "      <td>0</td>\n",
       "      <td>0</td>\n",
       "    </tr>\n",
       "  </tbody>\n",
       "</table>\n",
       "<p>5 rows × 170 columns</p>\n",
       "</div>"
      ],
      "text/plain": [
       "   rank            URL  TLD  processtime  totalerrors  totalelements  \\\n",
       "0     1     google.com  com         3.21            5            410   \n",
       "1     2   facebook.com  com         4.00           10            595   \n",
       "2     3    youtube.com  com         5.45           43           2056   \n",
       "3     4    twitter.com  com         2.94           37            669   \n",
       "4     5  microsoft.com  com         4.32            0            647   \n",
       "\n",
       "   errordensity  totalalerts  accessrank          doctype  ...  \\\n",
       "0        0.0122            4       74265  <!DOCTYPE html>  ...   \n",
       "1        0.0168           12      135794  <!DOCTYPE html>  ...   \n",
       "2        0.0209           68      439632  <!DOCTYPE html>  ...   \n",
       "3        0.0553           13      501528  <!DOCTYPE html>  ...   \n",
       "4        0.0000           11        2396  <!DOCTYPE html>  ...   \n",
       "\n",
       "   Libraries - Zepto  Google Maps  Java  PHP  WebFrameworks - animate.css  \\\n",
       "0                  0            0     0    0                            0   \n",
       "1                  0            0     0    0                            0   \n",
       "2                  0            0     0    0                            0   \n",
       "3                  0            0     0    0                            0   \n",
       "4                  0            0     0    0                            0   \n",
       "\n",
       "   WebFrameworks - Bootstrap  WebFrameworks - CodeIgniter  \\\n",
       "0                          0                            0   \n",
       "1                          0                            0   \n",
       "2                          0                            0   \n",
       "3                          0                            0   \n",
       "4                          0                            0   \n",
       "\n",
       "   WebFrameworks - Laravel  WebFrameworks - Microsoft ASP.NET  \\\n",
       "0                        0                                  0   \n",
       "1                        0                                  0   \n",
       "2                        0                                  0   \n",
       "3                        0                                  0   \n",
       "4                        0                                  0   \n",
       "\n",
       "   WebFrameworks - ZURB Foundation  \n",
       "0                                0  \n",
       "1                                0  \n",
       "2                                0  \n",
       "3                                0  \n",
       "4                                0  \n",
       "\n",
       "[5 rows x 170 columns]"
      ]
     },
     "execution_count": 26,
     "metadata": {},
     "output_type": "execute_result"
    }
   ],
   "source": [
    "million.head()"
   ]
  },
  {
   "cell_type": "code",
   "execution_count": 13,
   "metadata": {},
   "outputs": [],
   "source": [
    "#target = million_processed['errordensity'].squeeze()\n",
    "#target.shape"
   ]
  },
  {
   "cell_type": "code",
   "execution_count": 4,
   "metadata": {},
   "outputs": [],
   "source": [
    "error_count = million['totalerrors']"
   ]
  },
  {
   "cell_type": "code",
   "execution_count": 11,
   "metadata": {},
   "outputs": [
    {
     "data": {
      "text/plain": [
       "0           5\n",
       "1          10\n",
       "2          43\n",
       "3          37\n",
       "4           0\n",
       "5           1\n",
       "6          14\n",
       "7           0\n",
       "8          12\n",
       "9         256\n",
       "10         18\n",
       "11         12\n",
       "12          4\n",
       "13         20\n",
       "14         46\n",
       "15         18\n",
       "16         66\n",
       "17         16\n",
       "18         21\n",
       "19         16\n",
       "20          9\n",
       "21         19\n",
       "22        545\n",
       "23         77\n",
       "24          7\n",
       "25         67\n",
       "26         64\n",
       "27          2\n",
       "28         12\n",
       "29        140\n",
       "         ... \n",
       "999970     98\n",
       "999971      4\n",
       "999972      1\n",
       "999973     39\n",
       "999974    158\n",
       "999975    150\n",
       "999976     41\n",
       "999977     29\n",
       "999978     41\n",
       "999979     10\n",
       "999980    225\n",
       "999981     62\n",
       "999982     17\n",
       "999983     30\n",
       "999984     33\n",
       "999985     15\n",
       "999986      1\n",
       "999987     72\n",
       "999988     72\n",
       "999989     70\n",
       "999990     66\n",
       "999991    113\n",
       "999992     22\n",
       "999993    103\n",
       "999994     12\n",
       "999995      8\n",
       "999996      2\n",
       "999997      6\n",
       "999998      3\n",
       "999999    664\n",
       "Name: totalerrors, Length: 1000000, dtype: int64"
      ]
     },
     "execution_count": 11,
     "metadata": {},
     "output_type": "execute_result"
    }
   ],
   "source": [
    "error_count"
   ]
  },
  {
   "cell_type": "code",
   "execution_count": 12,
   "metadata": {},
   "outputs": [
    {
     "data": {
      "text/plain": [
       "count    1000000.000000\n",
       "mean          59.653607\n",
       "std          141.359376\n",
       "min            0.000000\n",
       "25%           11.000000\n",
       "50%           32.000000\n",
       "75%           70.000000\n",
       "max        26680.000000\n",
       "Name: totalerrors, dtype: float64"
      ]
     },
     "execution_count": 12,
     "metadata": {},
     "output_type": "execute_result"
    }
   ],
   "source": [
    "error_count.describe()"
   ]
  },
  {
   "cell_type": "code",
   "execution_count": 13,
   "metadata": {},
   "outputs": [
    {
     "data": {
      "text/html": [
       "<div>\n",
       "<style scoped>\n",
       "    .dataframe tbody tr th:only-of-type {\n",
       "        vertical-align: middle;\n",
       "    }\n",
       "\n",
       "    .dataframe tbody tr th {\n",
       "        vertical-align: top;\n",
       "    }\n",
       "\n",
       "    .dataframe thead th {\n",
       "        text-align: right;\n",
       "    }\n",
       "</style>\n",
       "<table border=\"1\" class=\"dataframe\">\n",
       "  <thead>\n",
       "    <tr style=\"text-align: right;\">\n",
       "      <th></th>\n",
       "      <th>rank</th>\n",
       "      <th>URL</th>\n",
       "      <th>TLD</th>\n",
       "      <th>processtime</th>\n",
       "      <th>totalerrors</th>\n",
       "      <th>totalelements</th>\n",
       "      <th>errordensity</th>\n",
       "      <th>totalalerts</th>\n",
       "      <th>accessrank</th>\n",
       "      <th>doctype</th>\n",
       "      <th>...</th>\n",
       "      <th>Libraries - Zepto</th>\n",
       "      <th>Google Maps</th>\n",
       "      <th>Java</th>\n",
       "      <th>PHP</th>\n",
       "      <th>WebFrameworks - animate.css</th>\n",
       "      <th>WebFrameworks - Bootstrap</th>\n",
       "      <th>WebFrameworks - CodeIgniter</th>\n",
       "      <th>WebFrameworks - Laravel</th>\n",
       "      <th>WebFrameworks - Microsoft ASP.NET</th>\n",
       "      <th>WebFrameworks - ZURB Foundation</th>\n",
       "    </tr>\n",
       "  </thead>\n",
       "  <tbody>\n",
       "    <tr>\n",
       "      <th>0</th>\n",
       "      <td>1</td>\n",
       "      <td>google.com</td>\n",
       "      <td>com</td>\n",
       "      <td>3.21</td>\n",
       "      <td>5</td>\n",
       "      <td>410</td>\n",
       "      <td>0.0122</td>\n",
       "      <td>4</td>\n",
       "      <td>74265</td>\n",
       "      <td>&lt;!DOCTYPE html&gt;</td>\n",
       "      <td>...</td>\n",
       "      <td>0</td>\n",
       "      <td>0</td>\n",
       "      <td>0</td>\n",
       "      <td>0</td>\n",
       "      <td>0</td>\n",
       "      <td>0</td>\n",
       "      <td>0</td>\n",
       "      <td>0</td>\n",
       "      <td>0</td>\n",
       "      <td>0</td>\n",
       "    </tr>\n",
       "    <tr>\n",
       "      <th>1</th>\n",
       "      <td>2</td>\n",
       "      <td>facebook.com</td>\n",
       "      <td>com</td>\n",
       "      <td>4.00</td>\n",
       "      <td>10</td>\n",
       "      <td>595</td>\n",
       "      <td>0.0168</td>\n",
       "      <td>12</td>\n",
       "      <td>135794</td>\n",
       "      <td>&lt;!DOCTYPE html&gt;</td>\n",
       "      <td>...</td>\n",
       "      <td>0</td>\n",
       "      <td>0</td>\n",
       "      <td>0</td>\n",
       "      <td>0</td>\n",
       "      <td>0</td>\n",
       "      <td>0</td>\n",
       "      <td>0</td>\n",
       "      <td>0</td>\n",
       "      <td>0</td>\n",
       "      <td>0</td>\n",
       "    </tr>\n",
       "    <tr>\n",
       "      <th>2</th>\n",
       "      <td>3</td>\n",
       "      <td>youtube.com</td>\n",
       "      <td>com</td>\n",
       "      <td>5.45</td>\n",
       "      <td>43</td>\n",
       "      <td>2056</td>\n",
       "      <td>0.0209</td>\n",
       "      <td>68</td>\n",
       "      <td>439632</td>\n",
       "      <td>&lt;!DOCTYPE html&gt;</td>\n",
       "      <td>...</td>\n",
       "      <td>0</td>\n",
       "      <td>0</td>\n",
       "      <td>0</td>\n",
       "      <td>0</td>\n",
       "      <td>0</td>\n",
       "      <td>0</td>\n",
       "      <td>0</td>\n",
       "      <td>0</td>\n",
       "      <td>0</td>\n",
       "      <td>0</td>\n",
       "    </tr>\n",
       "    <tr>\n",
       "      <th>3</th>\n",
       "      <td>4</td>\n",
       "      <td>twitter.com</td>\n",
       "      <td>com</td>\n",
       "      <td>2.94</td>\n",
       "      <td>37</td>\n",
       "      <td>669</td>\n",
       "      <td>0.0553</td>\n",
       "      <td>13</td>\n",
       "      <td>501528</td>\n",
       "      <td>&lt;!DOCTYPE html&gt;</td>\n",
       "      <td>...</td>\n",
       "      <td>0</td>\n",
       "      <td>0</td>\n",
       "      <td>0</td>\n",
       "      <td>0</td>\n",
       "      <td>0</td>\n",
       "      <td>0</td>\n",
       "      <td>0</td>\n",
       "      <td>0</td>\n",
       "      <td>0</td>\n",
       "      <td>0</td>\n",
       "    </tr>\n",
       "    <tr>\n",
       "      <th>4</th>\n",
       "      <td>5</td>\n",
       "      <td>microsoft.com</td>\n",
       "      <td>com</td>\n",
       "      <td>4.32</td>\n",
       "      <td>0</td>\n",
       "      <td>647</td>\n",
       "      <td>0.0000</td>\n",
       "      <td>11</td>\n",
       "      <td>2396</td>\n",
       "      <td>&lt;!DOCTYPE html&gt;</td>\n",
       "      <td>...</td>\n",
       "      <td>0</td>\n",
       "      <td>0</td>\n",
       "      <td>0</td>\n",
       "      <td>0</td>\n",
       "      <td>0</td>\n",
       "      <td>0</td>\n",
       "      <td>0</td>\n",
       "      <td>0</td>\n",
       "      <td>0</td>\n",
       "      <td>0</td>\n",
       "    </tr>\n",
       "  </tbody>\n",
       "</table>\n",
       "<p>5 rows × 170 columns</p>\n",
       "</div>"
      ],
      "text/plain": [
       "   rank            URL  TLD  processtime  totalerrors  totalelements  \\\n",
       "0     1     google.com  com         3.21            5            410   \n",
       "1     2   facebook.com  com         4.00           10            595   \n",
       "2     3    youtube.com  com         5.45           43           2056   \n",
       "3     4    twitter.com  com         2.94           37            669   \n",
       "4     5  microsoft.com  com         4.32            0            647   \n",
       "\n",
       "   errordensity  totalalerts  accessrank          doctype  ...  \\\n",
       "0        0.0122            4       74265  <!DOCTYPE html>  ...   \n",
       "1        0.0168           12      135794  <!DOCTYPE html>  ...   \n",
       "2        0.0209           68      439632  <!DOCTYPE html>  ...   \n",
       "3        0.0553           13      501528  <!DOCTYPE html>  ...   \n",
       "4        0.0000           11        2396  <!DOCTYPE html>  ...   \n",
       "\n",
       "   Libraries - Zepto  Google Maps  Java  PHP  WebFrameworks - animate.css  \\\n",
       "0                  0            0     0    0                            0   \n",
       "1                  0            0     0    0                            0   \n",
       "2                  0            0     0    0                            0   \n",
       "3                  0            0     0    0                            0   \n",
       "4                  0            0     0    0                            0   \n",
       "\n",
       "   WebFrameworks - Bootstrap  WebFrameworks - CodeIgniter  \\\n",
       "0                          0                            0   \n",
       "1                          0                            0   \n",
       "2                          0                            0   \n",
       "3                          0                            0   \n",
       "4                          0                            0   \n",
       "\n",
       "   WebFrameworks - Laravel  WebFrameworks - Microsoft ASP.NET  \\\n",
       "0                        0                                  0   \n",
       "1                        0                                  0   \n",
       "2                        0                                  0   \n",
       "3                        0                                  0   \n",
       "4                        0                                  0   \n",
       "\n",
       "   WebFrameworks - ZURB Foundation  \n",
       "0                                0  \n",
       "1                                0  \n",
       "2                                0  \n",
       "3                                0  \n",
       "4                                0  \n",
       "\n",
       "[5 rows x 170 columns]"
      ]
     },
     "execution_count": 13,
     "metadata": {},
     "output_type": "execute_result"
    }
   ],
   "source": [
    "million.head()"
   ]
  },
  {
   "cell_type": "code",
   "execution_count": 14,
   "metadata": {},
   "outputs": [
    {
     "data": {
      "text/plain": [
       "pandas.core.series.Series"
      ]
     },
     "execution_count": 14,
     "metadata": {},
     "output_type": "execute_result"
    }
   ],
   "source": [
    "type(error_count)"
   ]
  },
  {
   "cell_type": "code",
   "execution_count": 7,
   "metadata": {},
   "outputs": [],
   "source": [
    "error_count_df = pd.DataFrame(error_count, index = None)"
   ]
  },
  {
   "cell_type": "code",
   "execution_count": 16,
   "metadata": {},
   "outputs": [
    {
     "data": {
      "text/html": [
       "<div>\n",
       "<style scoped>\n",
       "    .dataframe tbody tr th:only-of-type {\n",
       "        vertical-align: middle;\n",
       "    }\n",
       "\n",
       "    .dataframe tbody tr th {\n",
       "        vertical-align: top;\n",
       "    }\n",
       "\n",
       "    .dataframe thead th {\n",
       "        text-align: right;\n",
       "    }\n",
       "</style>\n",
       "<table border=\"1\" class=\"dataframe\">\n",
       "  <thead>\n",
       "    <tr style=\"text-align: right;\">\n",
       "      <th></th>\n",
       "      <th>totalerrors</th>\n",
       "    </tr>\n",
       "  </thead>\n",
       "  <tbody>\n",
       "    <tr>\n",
       "      <th>0</th>\n",
       "      <td>5</td>\n",
       "    </tr>\n",
       "    <tr>\n",
       "      <th>1</th>\n",
       "      <td>10</td>\n",
       "    </tr>\n",
       "    <tr>\n",
       "      <th>2</th>\n",
       "      <td>43</td>\n",
       "    </tr>\n",
       "    <tr>\n",
       "      <th>3</th>\n",
       "      <td>37</td>\n",
       "    </tr>\n",
       "    <tr>\n",
       "      <th>4</th>\n",
       "      <td>0</td>\n",
       "    </tr>\n",
       "  </tbody>\n",
       "</table>\n",
       "</div>"
      ],
      "text/plain": [
       "   totalerrors\n",
       "0            5\n",
       "1           10\n",
       "2           43\n",
       "3           37\n",
       "4            0"
      ]
     },
     "execution_count": 16,
     "metadata": {},
     "output_type": "execute_result"
    }
   ],
   "source": [
    "error_count_df.head()"
   ]
  },
  {
   "cell_type": "code",
   "execution_count": 17,
   "metadata": {},
   "outputs": [
    {
     "data": {
      "text/plain": [
       "<matplotlib.axes._subplots.AxesSubplot at 0x274adab52e8>"
      ]
     },
     "execution_count": 17,
     "metadata": {},
     "output_type": "execute_result"
    },
    {
     "data": {
      "image/png": "[encoded data removed]",
      "text/plain": [
       "<Figure size 432x288 with 1 Axes>"
      ]
     },
     "metadata": {
      "needs_background": "light"
     },
     "output_type": "display_data"
    }
   ],
   "source": [
    "error_count_df['totalerrors'].hist()"
   ]
  },
  {
   "cell_type": "code",
   "execution_count": 21,
   "metadata": {},
   "outputs": [],
   "source": [
    "error_count_df['cat'] = pd.cut(error_count_df['totalerrors'], bins = [-1, 50, 100, 150, 200, np.inf], labels = [1, 2, 3, 4, 5])"
   ]
  },
  {
   "cell_type": "code",
   "execution_count": 22,
   "metadata": {},
   "outputs": [
    {
     "data": {
      "text/plain": [
       "<matplotlib.axes._subplots.AxesSubplot at 0x22bd94f03c8>"
      ]
     },
     "execution_count": 22,
     "metadata": {},
     "output_type": "execute_result"
    },
    {
     "data": {
      "image/png": "[encoded data removed]",
      "text/plain": [
       "<Figure size 432x288 with 1 Axes>"
      ]
     },
     "metadata": {},
     "output_type": "display_data"
    }
   ],
   "source": [
    "error_count_df['cat'].hist()"
   ]
  },
  {
   "cell_type": "code",
   "execution_count": 23,
   "metadata": {},
   "outputs": [
    {
     "data": {
      "text/plain": [
       "<matplotlib.collections.PathCollection at 0x22bcfef2ba8>"
      ]
     },
     "execution_count": 23,
     "metadata": {},
     "output_type": "execute_result"
    },
    {
     "data": {
      "image/png": "[encoded data removed]",
      "text/plain": [
       "<Figure size 432x288 with 1 Axes>"
      ]
     },
     "metadata": {},
     "output_type": "display_data"
    }
   ],
   "source": [
    "plt.scatter(million['totalerrors'], million['totalerrors'])"
   ]
  },
  {
   "cell_type": "code",
   "execution_count": 24,
   "metadata": {},
   "outputs": [
    {
     "data": {
      "text/plain": [
       "<matplotlib.collections.PathCollection at 0x22bd9585c18>"
      ]
     },
     "execution_count": 24,
     "metadata": {},
     "output_type": "execute_result"
    },
    {
     "data": {
      "image/png": "[encoded data removed]",
      "text/plain": [
       "<Figure size 432x288 with 1 Axes>"
      ]
     },
     "metadata": {},
     "output_type": "display_data"
    }
   ],
   "source": [
    "plt.scatter(million['totalerrors'], million['totalelements'])"
   ]
  },
  {
   "cell_type": "code",
   "execution_count": 25,
   "metadata": {},
   "outputs": [
    {
     "data": {
      "text/plain": [
       "<matplotlib.collections.PathCollection at 0x22ba3868fd0>"
      ]
     },
     "execution_count": 25,
     "metadata": {},
     "output_type": "execute_result"
    },
    {
     "data": {
      "image/png": "[encoded data removed]",
      "text/plain": [
       "<Figure size 432x288 with 1 Axes>"
      ]
     },
     "metadata": {},
     "output_type": "display_data"
    }
   ],
   "source": [
    "plt.scatter(million['totalelements'], million['totalerrors'])"
   ]
  },
  {
   "cell_type": "code",
   "execution_count": 26,
   "metadata": {},
   "outputs": [
    {
     "data": {
      "text/plain": [
       "<matplotlib.collections.PathCollection at 0x22ba25cb630>"
      ]
     },
     "execution_count": 26,
     "metadata": {},
     "output_type": "execute_result"
    },
    {
     "data": {
      "image/png": "[encoded data removed]",
      "text/plain": [
       "<Figure size 432x288 with 1 Axes>"
      ]
     },
     "metadata": {},
     "output_type": "display_data"
    }
   ],
   "source": [
    "plt.scatter(million['totalerrors'], million['processtime'])"
   ]
  },
  {
   "cell_type": "code",
   "execution_count": 27,
   "metadata": {},
   "outputs": [
    {
     "name": "stderr",
     "output_type": "stream",
     "text": [
      "D:\\Anaconda\\lib\\site-packages\\matplotlib\\axes\\_axes.py:6462: UserWarning: The 'normed' kwarg is deprecated, and has been replaced by the 'density' kwarg.\n",
      "  warnings.warn(\"The 'normed' kwarg is deprecated, and has been \"\n"
     ]
    },
    {
     "data": {
      "text/plain": [
       "<matplotlib.axes._subplots.AxesSubplot at 0x22ba25e9eb8>"
      ]
     },
     "execution_count": 27,
     "metadata": {},
     "output_type": "execute_result"
    },
    {
     "data": {
      "image/png": "[encoded data removed]",
      "text/plain": [
       "<Figure size 432x288 with 1 Axes>"
      ]
     },
     "metadata": {},
     "output_type": "display_data"
    }
   ],
   "source": [
    "sns.distplot(million['totalerrors'])"
   ]
  },
  {
   "cell_type": "code",
   "execution_count": 28,
   "metadata": {},
   "outputs": [
    {
     "data": {
      "text/plain": [
       "<matplotlib.axes._subplots.AxesSubplot at 0x22ba280e828>"
      ]
     },
     "execution_count": 28,
     "metadata": {},
     "output_type": "execute_result"
    },
    {
     "data": {
      "image/png": "[encoded data removed]",
      "text/plain": [
       "<Figure size 432x288 with 1 Axes>"
      ]
     },
     "metadata": {},
     "output_type": "display_data"
    }
   ],
   "source": [
    "million['totalerrors'].value_counts()\n",
    "sns.boxplot(million['totalerrors'])"
   ]
  },
  {
   "cell_type": "code",
   "execution_count": 29,
   "metadata": {},
   "outputs": [
    {
     "data": {
      "text/plain": [
       "1       40659\n",
       "2       34898\n",
       "3       25347\n",
       "0       21834\n",
       "6       21766\n",
       "        ...  \n",
       "1877        1\n",
       "1671        1\n",
       "1159        1\n",
       "2391        1\n",
       "1646        1\n",
       "Name: totalerrors, Length: 2011, dtype: int64"
      ]
     },
     "execution_count": 29,
     "metadata": {},
     "output_type": "execute_result"
    }
   ],
   "source": [
    "million['totalerrors'].value_counts()"
   ]
  },
  {
   "cell_type": "code",
   "execution_count": null,
   "metadata": {},
   "outputs": [],
   "source": []
  },
  {
   "cell_type": "code",
   "execution_count": null,
   "metadata": {},
   "outputs": [],
   "source": []
  },
  {
   "cell_type": "code",
   "execution_count": null,
   "metadata": {},
   "outputs": [],
   "source": []
  },
  {
   "cell_type": "code",
   "execution_count": null,
   "metadata": {},
   "outputs": [],
   "source": []
  },
  {
   "cell_type": "code",
   "execution_count": null,
   "metadata": {},
   "outputs": [],
   "source": []
  },
  {
   "cell_type": "code",
   "execution_count": null,
   "metadata": {},
   "outputs": [],
   "source": []
  },
  {
   "cell_type": "code",
   "execution_count": null,
   "metadata": {},
   "outputs": [],
   "source": []
  },
  {
   "cell_type": "code",
   "execution_count": null,
   "metadata": {},
   "outputs": [],
   "source": []
  },
  {
   "cell_type": "markdown",
   "metadata": {},
   "source": [
    "# explanatory features database"
   ]
  },
  {
   "cell_type": "code",
   "execution_count": 5,
   "metadata": {},
   "outputs": [],
   "source": [
    "million_explanatory = million.drop(['rank', 'URL', 'TLD', 'totalerrors', 'doctype'], axis = 1)"
   ]
  },
  {
   "cell_type": "code",
   "execution_count": 5,
   "metadata": {},
   "outputs": [
    {
     "data": {
      "text/plain": [
       "(1000000, 165)"
      ]
     },
     "execution_count": 5,
     "metadata": {},
     "output_type": "execute_result"
    }
   ],
   "source": [
    "million_explanatory.shape"
   ]
  },
  {
   "cell_type": "code",
   "execution_count": 6,
   "metadata": {},
   "outputs": [
    {
     "data": {
      "text/html": [
       "<div>\n",
       "<style scoped>\n",
       "    .dataframe tbody tr th:only-of-type {\n",
       "        vertical-align: middle;\n",
       "    }\n",
       "\n",
       "    .dataframe tbody tr th {\n",
       "        vertical-align: top;\n",
       "    }\n",
       "\n",
       "    .dataframe thead th {\n",
       "        text-align: right;\n",
       "    }\n",
       "</style>\n",
       "<table border=\"1\" class=\"dataframe\">\n",
       "  <thead>\n",
       "    <tr style=\"text-align: right;\">\n",
       "      <th></th>\n",
       "      <th>processtime</th>\n",
       "      <th>totalelements</th>\n",
       "      <th>errordensity</th>\n",
       "      <th>totalalerts</th>\n",
       "      <th>accessrank</th>\n",
       "      <th>wcagfail</th>\n",
       "      <th>wcagimgfail</th>\n",
       "      <th>contrast</th>\n",
       "      <th>alt_area_missing</th>\n",
       "      <th>alt_input_missing</th>\n",
       "      <th>...</th>\n",
       "      <th>Libraries - Zepto</th>\n",
       "      <th>Google Maps</th>\n",
       "      <th>Java</th>\n",
       "      <th>PHP</th>\n",
       "      <th>WebFrameworks - animate.css</th>\n",
       "      <th>WebFrameworks - Bootstrap</th>\n",
       "      <th>WebFrameworks - CodeIgniter</th>\n",
       "      <th>WebFrameworks - Laravel</th>\n",
       "      <th>WebFrameworks - Microsoft ASP.NET</th>\n",
       "      <th>WebFrameworks - ZURB Foundation</th>\n",
       "    </tr>\n",
       "  </thead>\n",
       "  <tbody>\n",
       "    <tr>\n",
       "      <th>0</th>\n",
       "      <td>3.21</td>\n",
       "      <td>410</td>\n",
       "      <td>0.0122</td>\n",
       "      <td>4</td>\n",
       "      <td>74265</td>\n",
       "      <td>1</td>\n",
       "      <td>1</td>\n",
       "      <td>2</td>\n",
       "      <td>0</td>\n",
       "      <td>0</td>\n",
       "      <td>...</td>\n",
       "      <td>0</td>\n",
       "      <td>0</td>\n",
       "      <td>0</td>\n",
       "      <td>0</td>\n",
       "      <td>0</td>\n",
       "      <td>0</td>\n",
       "      <td>0</td>\n",
       "      <td>0</td>\n",
       "      <td>0</td>\n",
       "      <td>0</td>\n",
       "    </tr>\n",
       "    <tr>\n",
       "      <th>1</th>\n",
       "      <td>4.00</td>\n",
       "      <td>595</td>\n",
       "      <td>0.0168</td>\n",
       "      <td>12</td>\n",
       "      <td>135794</td>\n",
       "      <td>1</td>\n",
       "      <td>1</td>\n",
       "      <td>7</td>\n",
       "      <td>0</td>\n",
       "      <td>0</td>\n",
       "      <td>...</td>\n",
       "      <td>0</td>\n",
       "      <td>0</td>\n",
       "      <td>0</td>\n",
       "      <td>0</td>\n",
       "      <td>0</td>\n",
       "      <td>0</td>\n",
       "      <td>0</td>\n",
       "      <td>0</td>\n",
       "      <td>0</td>\n",
       "      <td>0</td>\n",
       "    </tr>\n",
       "    <tr>\n",
       "      <th>2</th>\n",
       "      <td>5.45</td>\n",
       "      <td>2056</td>\n",
       "      <td>0.0209</td>\n",
       "      <td>68</td>\n",
       "      <td>439632</td>\n",
       "      <td>1</td>\n",
       "      <td>1</td>\n",
       "      <td>3</td>\n",
       "      <td>0</td>\n",
       "      <td>0</td>\n",
       "      <td>...</td>\n",
       "      <td>0</td>\n",
       "      <td>0</td>\n",
       "      <td>0</td>\n",
       "      <td>0</td>\n",
       "      <td>0</td>\n",
       "      <td>0</td>\n",
       "      <td>0</td>\n",
       "      <td>0</td>\n",
       "      <td>0</td>\n",
       "      <td>0</td>\n",
       "    </tr>\n",
       "    <tr>\n",
       "      <th>3</th>\n",
       "      <td>2.94</td>\n",
       "      <td>669</td>\n",
       "      <td>0.0553</td>\n",
       "      <td>13</td>\n",
       "      <td>501528</td>\n",
       "      <td>1</td>\n",
       "      <td>0</td>\n",
       "      <td>25</td>\n",
       "      <td>0</td>\n",
       "      <td>0</td>\n",
       "      <td>...</td>\n",
       "      <td>0</td>\n",
       "      <td>0</td>\n",
       "      <td>0</td>\n",
       "      <td>0</td>\n",
       "      <td>0</td>\n",
       "      <td>0</td>\n",
       "      <td>0</td>\n",
       "      <td>0</td>\n",
       "      <td>0</td>\n",
       "      <td>0</td>\n",
       "    </tr>\n",
       "    <tr>\n",
       "      <th>4</th>\n",
       "      <td>4.32</td>\n",
       "      <td>647</td>\n",
       "      <td>0.0000</td>\n",
       "      <td>11</td>\n",
       "      <td>2396</td>\n",
       "      <td>0</td>\n",
       "      <td>0</td>\n",
       "      <td>0</td>\n",
       "      <td>0</td>\n",
       "      <td>0</td>\n",
       "      <td>...</td>\n",
       "      <td>0</td>\n",
       "      <td>0</td>\n",
       "      <td>0</td>\n",
       "      <td>0</td>\n",
       "      <td>0</td>\n",
       "      <td>0</td>\n",
       "      <td>0</td>\n",
       "      <td>0</td>\n",
       "      <td>0</td>\n",
       "      <td>0</td>\n",
       "    </tr>\n",
       "  </tbody>\n",
       "</table>\n",
       "<p>5 rows × 165 columns</p>\n",
       "</div>"
      ],
      "text/plain": [
       "   processtime  totalelements  errordensity  totalalerts  accessrank  \\\n",
       "0         3.21            410        0.0122            4       74265   \n",
       "1         4.00            595        0.0168           12      135794   \n",
       "2         5.45           2056        0.0209           68      439632   \n",
       "3         2.94            669        0.0553           13      501528   \n",
       "4         4.32            647        0.0000           11        2396   \n",
       "\n",
       "   wcagfail  wcagimgfail  contrast  alt_area_missing  alt_input_missing  ...  \\\n",
       "0         1            1         2                 0                  0  ...   \n",
       "1         1            1         7                 0                  0  ...   \n",
       "2         1            1         3                 0                  0  ...   \n",
       "3         1            0        25                 0                  0  ...   \n",
       "4         0            0         0                 0                  0  ...   \n",
       "\n",
       "   Libraries - Zepto  Google Maps  Java  PHP  WebFrameworks - animate.css  \\\n",
       "0                  0            0     0    0                            0   \n",
       "1                  0            0     0    0                            0   \n",
       "2                  0            0     0    0                            0   \n",
       "3                  0            0     0    0                            0   \n",
       "4                  0            0     0    0                            0   \n",
       "\n",
       "   WebFrameworks - Bootstrap  WebFrameworks - CodeIgniter  \\\n",
       "0                          0                            0   \n",
       "1                          0                            0   \n",
       "2                          0                            0   \n",
       "3                          0                            0   \n",
       "4                          0                            0   \n",
       "\n",
       "   WebFrameworks - Laravel  WebFrameworks - Microsoft ASP.NET  \\\n",
       "0                        0                                  0   \n",
       "1                        0                                  0   \n",
       "2                        0                                  0   \n",
       "3                        0                                  0   \n",
       "4                        0                                  0   \n",
       "\n",
       "   WebFrameworks - ZURB Foundation  \n",
       "0                                0  \n",
       "1                                0  \n",
       "2                                0  \n",
       "3                                0  \n",
       "4                                0  \n",
       "\n",
       "[5 rows x 165 columns]"
      ]
     },
     "execution_count": 6,
     "metadata": {},
     "output_type": "execute_result"
    }
   ],
   "source": [
    "million_explanatory.head()"
   ]
  },
  {
   "cell_type": "code",
   "execution_count": 8,
   "metadata": {},
   "outputs": [
    {
     "name": "stdout",
     "output_type": "stream",
     "text": [
      "The original input dataset shape is:  (1000000, 170)\n",
      "The X dataset shape is:  (10000, 165)\n",
      "The y dataset shape is:  (10000,)\n"
     ]
    }
   ],
   "source": [
    "X = million_explanatory.iloc[:10000]\n",
    "y = error_count_df.iloc[:10000, :1].squeeze()\n",
    "\n",
    "print('The original input dataset shape is: ', million.shape)\n",
    "print('The X dataset shape is: ',X.shape)\n",
    "print('The y dataset shape is: ', y.shape)"
   ]
  },
  {
   "cell_type": "code",
   "execution_count": 9,
   "metadata": {},
   "outputs": [
    {
     "name": "stdout",
     "output_type": "stream",
     "text": [
      "The X_train dataset shape is:  (7000, 165)\n",
      "The y_train dataset shape is:  (7000,)\n",
      "The X_test dataset shape is:  (3000, 165)\n",
      "The y_test dataset shape is:  (3000,)\n"
     ]
    }
   ],
   "source": [
    "X_train,X_test,y_train,y_test=train_test_split(X, y, train_size=0.7, random_state=0)\n",
    "print('The X_train dataset shape is: ', X_train.shape)\n",
    "print('The y_train dataset shape is: ', y_train.shape)\n",
    "print('The X_test dataset shape is: ', X_test.shape)\n",
    "print('The y_test dataset shape is: ', y_test.shape)"
   ]
  },
  {
   "cell_type": "code",
   "execution_count": 20,
   "metadata": {},
   "outputs": [],
   "source": [
    "import matplotlib.pyplot as plt\n",
    "import seaborn as sns\n",
    "import time\n",
    "\n",
    "from sklearn.model_selection import train_test_split\n",
    "from sklearn.tree import DecisionTreeClassifier\n",
    "from sklearn.ensemble import RandomForestRegressor\n",
    "from sklearn.ensemble import GradientBoostingClassifier as GBC\n",
    "from sklearn.model_selection import GridSearchCV\n",
    "from sklearn.metrics import roc_auc_score as AUC, log_loss\n",
    "#from sklearn.calibration import CalibratedClassifierCV\n",
    "\n",
    "import xgboost as xgb\n",
    "import lightgbm as lgb\n",
    "\n",
    "%matplotlib inline"
   ]
  },
  {
   "cell_type": "code",
   "execution_count": 21,
   "metadata": {},
   "outputs": [
    {
     "name": "stdout",
     "output_type": "stream",
     "text": [
      "most important features:\n",
      "(0.18945503596118515, 'contrast')\n",
      "(0.15398717032105297, 'accessrank')\n",
      "(0.14607488764285997, 'errordensity')\n",
      "(0.10892514608026015, 'totalelements')\n",
      "(0.043594112708281646, 'totalalerts')\n",
      "(0.04268707733288076, 'link_empty')\n",
      "(0.029697060224758317, 'alt_link_missing')\n",
      "(0.02674809645423618, 'alt_missing')\n",
      "(0.017480898748554685, 'link_redundant')\n",
      "(0.014831528687287042, 'processtime')\n",
      "(0.012987314921277839, 'title_redundant')\n",
      "(0.012943725039013294, 'ul')\n",
      "(0.011129142626045016, 'alt')\n",
      "(0.010905642381178885, 'label_orphaned')\n",
      "(0.009605739859971615, 'h3')\n",
      "(0.009102404724031867, 'h2')\n",
      "(0.007357652676708985, 'wcagimgfail')\n",
      "(0.006820137046574843, 'alt_null')\n",
      "(0.0053483014816069225, 'iframe')\n",
      "(0.005304101503501683, 'alt_suspicious')\n",
      "(0.005065563038111934, 'label_missing')\n",
      "(0.004975404754608086, 'totalaria')\n",
      "(0.004899734111355961, 'h4')\n",
      "(0.004855761910757359, 'alt_link')\n",
      "(0.004393501578400691, 'aria_tabindex')\n",
      "(0.00416507772173833, 'table_layout')\n",
      "(0.004129364520674734, 'marquee')\n",
      "(0.004014906436699758, 'heading_skipped')\n",
      "(0.003449220724042155, 'html5_footer')\n",
      "(0.003092622307855095, 'text_small')\n",
      "(0.0030791749552760692, 'alt_spacer_missing')\n",
      "(0.002847384114063842, 'alt_redundant')\n",
      "(0.0025486850488621172, 'button_empty')\n",
      "(0.002475963127793093, 'Libraries - Lazy.js')\n",
      "(0.0024720122845564535, 'CMS - Blogger')\n",
      "(0.002403790070400219, 'alt_area')\n",
      "(0.0022404721334325886, 'html5_nav')\n",
      "(0.0021251097850760025, 'table_data')\n",
      "(0.002105612623187815, 'h1')\n",
      "(0.001992710138766023, 'event_handler')\n",
      "(0.0019464005630501944, 'label')\n",
      "(0.001890241825980068, 'link_suspicious')\n",
      "(0.001887830703895511, 'h5')\n",
      "(0.0018469789934485235, 'aria_label')\n",
      "(0.0018442192770456863, 'alt_duplicate')\n",
      "(0.0018315239740114167, 'html5_header')\n",
      "(0.0017653859628236188, 'CMS - Joomla')\n",
      "(0.0017194333908389986, 'underline')\n",
      "(0.001704215507833993, 'alt_map_missing')\n",
      "(0.0016918687703322464, 'Libraries - Modernizr')\n",
      "(0.0015739573723981654, 'label_empty')\n",
      "(0.0015076174462936973, 'aria')\n",
      "(0.0014868580063979312, 'noscript')\n",
      "(0.001416722876521297, 'Libraries - jQuery')\n",
      "(0.0014016124747898782, 'alt_spacer')\n",
      "(0.001388871452570143, 'Frameworks - TweenMax')\n",
      "(0.0013636632047061838, 'link_pdf')\n",
      "(0.0013245141256248492, 'accesskey')\n",
      "(0.0013058197395555736, 'WebFrameworks - Bootstrap')\n",
      "(0.0012541093444507696, 'link_skip')\n",
      "(0.001184690828467744, 'Libraries - script.aculo.us')\n",
      "(0.0011699711236635624, 'link_internal_broken')\n",
      "(0.0011255900192679391, 'Ads - DoubleClick')\n",
      "(0.0011198694261035347, 'dl')\n",
      "(0.0010650736569165337, 'html5_aside')\n",
      "(0.0010636631766006712, 'link_skip_target')\n",
      "(0.0010510938526962807, 'h1_missing')\n",
      "(0.0010256135762288852, 'flash')\n",
      "(0.0009155436573426066, 'html5_main')\n",
      "(0.0009141351279757823, 'text_justified')\n",
      "(0.0009024504422804955, 'heading_possible')\n",
      "(0.0008835466121526736, 'language_missing')\n",
      "(0.000882465034883676, 'aria_reference_broken')\n",
      "(0.0008500136843258615, 'label_title')\n",
      "(0.0008378261076411159, 'PHP')\n",
      "(0.0008052565951173691, 'th')\n",
      "(0.0007998696939262396, 'ol')\n",
      "(0.000799375938059114, 'Libraries - jQuery UI')\n",
      "(0.0007983067389297047, 'aria_search')\n",
      "(0.0007951042778331645, 'heading_empty')\n",
      "(0.0007497104340997656, 'WebFrameworks - Microsoft ASP.NET')\n",
      "(0.0007144264617370402, 'Libraries - jQuery Migrate')\n",
      "(0.0006813072733038553, 'Ads - AdSense')\n",
      "(0.0006465911668868533, 'Google Maps')\n",
      "(0.0006441843119886996, 'plugin')\n",
      "(0.0005776348576547713, 'Frameworks - RequireJS')\n",
      "(0.0005754898164636124, 'ReCAPTCHA')\n",
      "(0.0005605220881625099, 'Frameworks - Prototype')\n",
      "(0.0005454427362719462, 'CMS - WordPress')\n",
      "(0.0005055721137570608, 'alt_long')\n",
      "(0.00048053360655804864, 'html5_video_audio')\n",
      "(0.00047056891089403244, 'fieldset_missing')\n",
      "(0.0004521870838352389, 'heading_missing')\n",
      "(0.00044235771829007563, 'javascript_jumpmenu')\n",
      "(0.000436263515579151, 'h6')\n",
      "(0.0004222761991183919, 'Libraries - FancyBox')\n",
      "(0.0003993496424756456, 'Libraries - prettyPhoto')\n",
      "(0.0003877621863622755, 'Ads - Prebid')\n",
      "(0.000381041997147777, 'lang')\n",
      "(0.000339508680857521, 'legend_missing')\n",
      "(0.000326333050750945, 'tabindex')\n",
      "(0.0002931345452476569, 'label_multiple')\n",
      "(0.0002876663312754104, 'fieldset')\n",
      "(0.0002785495396656113, 'th_empty')\n",
      "(0.0002421992130079649, 'WebFrameworks - CodeIgniter')\n",
      "(0.00023501121774177337, 'Libraries - Hammer.js')\n",
      "(0.0002239094072004592, 'audio_video')\n",
      "(0.00022147437841067892, 'Ads - VigLink')\n",
      "(0.0002172014816315655, 'link_word')\n",
      "(0.00019265221819564476, 'Java')\n",
      "(0.00018729423129099985, 'alt_input')\n",
      "(0.0001829280881008112, 'Libraries - Moment.js')\n",
      "(0.00018090515326002693, 'wcagfail')\n",
      "(0.00016976664824674783, 'title_invalid')\n",
      "(0.00016866624628790556, 'Libraries - Lightbox')\n",
      "(0.00015556119847228738, 'Libraries - Select2')\n",
      "(0.00015381305059332875, 'alt_input_missing')\n",
      "(0.00014772408552806855, 'alt_area_missing')\n",
      "(0.00014422284982767693, 'Libraries - Lodash')\n",
      "(0.0001304944469315035, 'table_caption')\n",
      "(0.0001263120602990823, 'Frameworks - Backbone.js')\n",
      "(0.0001229849805725898, 'link_excel')\n",
      "(0.00010656766168812561, 'Libraries - Underscore.js')\n",
      "(0.00010333258015744572, 'Frameworks - Knockout.js')\n",
      "(9.359931177514265e-05, 'Libraries - Slick')\n",
      "(9.167633127891586e-05, 'WebFrameworks - animate.css')\n",
      "(8.670222732023143e-05, 'CMS - 1C-Bitrix')\n",
      "(7.83574868926565e-05, 'Ads - Criteo')\n",
      "(7.194246516583087e-05, 'Frameworks - MooTools')\n",
      "(7.029279036927453e-05, 'th_col')\n",
      "(6.901682262000393e-05, 'Frameworks - React')\n",
      "(6.700822695845128e-05, 'th_row')\n",
      "(6.664776534678718e-05, 'Frameworks - Angular')\n",
      "(5.780051653532066e-05, 'alt_map')\n",
      "(5.7024901666180706e-05, 'link_skip_broken')\n",
      "(5.687463520517407e-05, 'Ads - AppNexus')\n",
      "(5.540521490209985e-05, 'Frameworks - Handlebars')\n",
      "(5.084318678671731e-05, 'Libraries - YUI')\n",
      "(4.916516071877947e-05, 'meta_refresh')\n",
      "(4.741038867191402e-05, 'Libraries - Flickity')\n",
      "(4.249732741091088e-05, 'Libraries - SoundManager')\n",
      "(4.233973477431809e-05, 'longdesc')\n",
      "(4.1221288686909105e-05, 'Frameworks - Vue.js')\n",
      "(3.7970659256754206e-05, 'CMS - Drupal')\n",
      "(3.402308507132953e-05, 'Libraries - Zepto')\n",
      "(2.997355926771397e-05, 'WebFrameworks - ZURB Foundation')\n",
      "(2.9090694210350068e-05, 'Frameworks - Mustache')\n",
      "(2.5365789537671216e-05, 'CMS - TYPO3 CMS')\n",
      "(2.1926696044173172e-05, 'table_caption_possible')\n",
      "(2.1925461408712637e-05, 'Ads - Yandex.Direct')\n",
      "(1.6997457608563727e-05, 'Libraries - Fingerprintjs')\n",
      "(1.6817865442708564e-05, 'Ads - AdRoll')\n",
      "(1.6524805418303855e-05, 'CMS - Rocket')\n",
      "(1.597849746976707e-05, 'blink')\n",
      "(1.4200075551276077e-05, 'link_powerpoint')\n",
      "(1.3888168695583156e-05, 'WebFrameworks - Laravel')\n",
      "(1.270264343594962e-05, 'CMS - Elementor')\n",
      "(9.859736163757388e-06, 'Libraries - Dojo')\n",
      "(4.354234541735121e-06, 'longdesc_invalid')\n",
      "(3.3180859001577384e-06, 'CMS - Wix')\n",
      "(2.6040713294261557e-06, 'CMS - Squarespace')\n",
      "(2.3352487823624613e-06, 'link_document')\n",
      "(2.3202513788523325e-06, 'CMS - Weebly')\n",
      "(2.0092746629665037e-06, 'applet')\n",
      "(0.0, 'server_image_map')\n",
      "The test accuracy is 0.8829565296255992\n",
      "The training accuracy is 0.9621839142163392\n"
     ]
    }
   ],
   "source": [
    "clf = RandomForestRegressor(criterion = 'mse', n_estimators = 10, max_depth = 200, random_state = 0, n_jobs = -1, max_features = 'sqrt')\n",
    "clf.fit(X_train, y_train)\n",
    "#predprob_y_rf = clf.predict_proba(X_test)\n",
    "pred_y_rf = clf.predict(X_test)\n",
    "#print(pred_y_rf)\n",
    "\n",
    "#print('The test accuracy is {} and logloss is{}'.format(clf.score(X_test, y_test), log_loss(y_test, predprob_y_rf)))\n",
    "feature_importances = clf.feature_importances_\n",
    "importance = sorted(zip(feature_importances, million_explanatory.columns),\n",
    "                        reverse=True)\n",
    "print ('most important features:')\n",
    "[print (row) for i, row in enumerate(importance)]\n",
    "\n",
    "print('The test accuracy is {}'.format(clf.score(X_test, y_test)))\n",
    "print('The training accuracy is {}'.format(clf.score(X_train, y_train)))"
   ]
  },
  {
   "cell_type": "code",
   "execution_count": 10,
   "metadata": {},
   "outputs": [
    {
     "name": "stderr",
     "output_type": "stream",
     "text": [
      "C:\\Users\\mckla\\Anaconda3\\lib\\site-packages\\sklearn\\linear_model\\ridge.py:147: LinAlgWarning: Ill-conditioned matrix (rcond=1.04702e-22): result may not be accurate.\n",
      "  overwrite_a=True).T\n",
      "C:\\Users\\mckla\\Anaconda3\\lib\\site-packages\\sklearn\\linear_model\\ridge.py:147: LinAlgWarning: Ill-conditioned matrix (rcond=1.40055e-17): result may not be accurate.\n",
      "  overwrite_a=True).T\n",
      "C:\\Users\\mckla\\Anaconda3\\lib\\site-packages\\sklearn\\linear_model\\ridge.py:147: LinAlgWarning: Ill-conditioned matrix (rcond=6.74125e-23): result may not be accurate.\n",
      "  overwrite_a=True).T\n",
      "C:\\Users\\mckla\\Anaconda3\\lib\\site-packages\\sklearn\\linear_model\\ridge.py:147: LinAlgWarning: Ill-conditioned matrix (rcond=1.38141e-17): result may not be accurate.\n",
      "  overwrite_a=True).T\n",
      "C:\\Users\\mckla\\Anaconda3\\lib\\site-packages\\sklearn\\linear_model\\ridge.py:147: LinAlgWarning: Ill-conditioned matrix (rcond=1.30194e-22): result may not be accurate.\n",
      "  overwrite_a=True).T\n",
      "C:\\Users\\mckla\\Anaconda3\\lib\\site-packages\\sklearn\\linear_model\\ridge.py:147: LinAlgWarning: Ill-conditioned matrix (rcond=1.35276e-17): result may not be accurate.\n",
      "  overwrite_a=True).T\n",
      "C:\\Users\\mckla\\Anaconda3\\lib\\site-packages\\sklearn\\linear_model\\ridge.py:147: LinAlgWarning: Ill-conditioned matrix (rcond=1.30958e-22): result may not be accurate.\n",
      "  overwrite_a=True).T\n",
      "C:\\Users\\mckla\\Anaconda3\\lib\\site-packages\\sklearn\\linear_model\\ridge.py:147: LinAlgWarning: Ill-conditioned matrix (rcond=1.35753e-17): result may not be accurate.\n",
      "  overwrite_a=True).T\n",
      "C:\\Users\\mckla\\Anaconda3\\lib\\site-packages\\sklearn\\linear_model\\ridge.py:147: LinAlgWarning: Ill-conditioned matrix (rcond=1.14728e-22): result may not be accurate.\n",
      "  overwrite_a=True).T\n",
      "C:\\Users\\mckla\\Anaconda3\\lib\\site-packages\\sklearn\\linear_model\\ridge.py:147: LinAlgWarning: Ill-conditioned matrix (rcond=1.35741e-17): result may not be accurate.\n",
      "  overwrite_a=True).T\n"
     ]
    }
   ],
   "source": [
    "from sklearn.model_selection import validation_curve\n",
    "from sklearn.linear_model import Ridge\n",
    "\n",
    "\n",
    "train_scores, valid_scores = validation_curve(Ridge(), X, y, \"alpha\",np.logspace(-7,3,3), cv=5)"
   ]
  },
  {
   "cell_type": "code",
   "execution_count": 31,
   "metadata": {},
   "outputs": [
    {
     "data": {
      "text/plain": [
       "[<matplotlib.lines.Line2D at 0x1bb3aecbf28>]"
      ]
     },
     "execution_count": 31,
     "metadata": {},
     "output_type": "execute_result"
    },
    {
     "data": {
      "image/png": "[encoded data removed]",
      "text/plain": [
       "<Figure size 432x288 with 1 Axes>"
      ]
     },
     "metadata": {
      "needs_background": "light"
     },
     "output_type": "display_data"
    }
   ],
   "source": [
    "plt.plot(train_scores[0])"
   ]
  },
  {
   "cell_type": "code",
   "execution_count": 14,
   "metadata": {},
   "outputs": [
    {
     "data": {
      "text/plain": [
       "array([[0.9999995 , 0.99999999, 0.99999985, 1.        , 0.99999999],\n",
       "       [0.9999995 , 0.99999999, 0.99999985, 1.        , 0.99999999],\n",
       "       [0.99997833, 0.99998912, 0.99998834, 0.99990665, 0.9999799 ]])"
      ]
     },
     "execution_count": 14,
     "metadata": {},
     "output_type": "execute_result"
    }
   ],
   "source": [
    "valid_scores"
   ]
  },
  {
   "cell_type": "code",
   "execution_count": 16,
   "metadata": {},
   "outputs": [
    {
     "data": {
      "text/plain": [
       "[<matplotlib.lines.Line2D at 0x1bb3ac618d0>,\n",
       " <matplotlib.lines.Line2D at 0x1bb3ac61a20>,\n",
       " <matplotlib.lines.Line2D at 0x1bb3ac61b70>,\n",
       " <matplotlib.lines.Line2D at 0x1bb3ac61cc0>,\n",
       " <matplotlib.lines.Line2D at 0x1bb3ac61e10>]"
      ]
     },
     "execution_count": 16,
     "metadata": {},
     "output_type": "execute_result"
    },
    {
     "data": {
      "image/png": "[encoded data removed]",
      "text/plain": [
       "<Figure size 432x288 with 1 Axes>"
      ]
     },
     "metadata": {
      "needs_background": "light"
     },
     "output_type": "display_data"
    }
   ],
   "source": [
    "plt.plot(train_scores, valid_scores)"
   ]
  },
  {
   "cell_type": "code",
   "execution_count": 23,
   "metadata": {},
   "outputs": [],
   "source": [
    "from sklearn.ensemble import RandomForestClassifier"
   ]
  },
  {
   "cell_type": "code",
   "execution_count": 24,
   "metadata": {},
   "outputs": [
    {
     "ename": "MemoryError",
     "evalue": "could not allocate 7545552896 bytes",
     "output_type": "error",
     "traceback": [
      "\u001b[1;31m---------------------------------------------------------------------------\u001b[0m",
      "\u001b[1;31mMemoryError\u001b[0m                               Traceback (most recent call last)",
      "\u001b[1;32m<ipython-input-24-a6bf7aafd90c>\u001b[0m in \u001b[0;36m<module>\u001b[1;34m\u001b[0m\n\u001b[0;32m      2\u001b[0m \u001b[0ms\u001b[0m\u001b[1;33m=\u001b[0m\u001b[0mtime\u001b[0m\u001b[1;33m.\u001b[0m\u001b[0mtime\u001b[0m\u001b[1;33m(\u001b[0m\u001b[1;33m)\u001b[0m\u001b[1;33m\u001b[0m\u001b[1;33m\u001b[0m\u001b[0m\n\u001b[0;32m      3\u001b[0m \u001b[0mclf\u001b[0m\u001b[1;33m=\u001b[0m\u001b[0mRandomForestClassifier\u001b[0m\u001b[1;33m(\u001b[0m\u001b[0mn_estimators\u001b[0m\u001b[1;33m=\u001b[0m\u001b[1;36m100\u001b[0m\u001b[1;33m,\u001b[0m \u001b[0mmax_depth\u001b[0m \u001b[1;33m=\u001b[0m \u001b[1;32mNone\u001b[0m\u001b[1;33m,\u001b[0m \u001b[0mrandom_state\u001b[0m\u001b[1;33m=\u001b[0m\u001b[1;36m0\u001b[0m\u001b[1;33m,\u001b[0m\u001b[0mn_jobs\u001b[0m\u001b[1;33m=\u001b[0m\u001b[1;33m-\u001b[0m\u001b[1;36m1\u001b[0m\u001b[1;33m,\u001b[0m\u001b[0mmax_features\u001b[0m\u001b[1;33m=\u001b[0m\u001b[1;34m'sqrt'\u001b[0m\u001b[1;33m)\u001b[0m\u001b[1;33m\u001b[0m\u001b[1;33m\u001b[0m\u001b[0m\n\u001b[1;32m----> 4\u001b[1;33m \u001b[0mclf\u001b[0m\u001b[1;33m.\u001b[0m\u001b[0mfit\u001b[0m\u001b[1;33m(\u001b[0m\u001b[0mX_train\u001b[0m\u001b[1;33m,\u001b[0m\u001b[0my_train\u001b[0m\u001b[1;33m)\u001b[0m\u001b[1;33m\u001b[0m\u001b[1;33m\u001b[0m\u001b[0m\n\u001b[0m\u001b[0;32m      5\u001b[0m \u001b[0mpredprob_y_rf\u001b[0m\u001b[1;33m=\u001b[0m\u001b[0mclf\u001b[0m\u001b[1;33m.\u001b[0m\u001b[0mpredict_proba\u001b[0m\u001b[1;33m(\u001b[0m\u001b[0mX_test\u001b[0m\u001b[1;33m)\u001b[0m\u001b[1;31m# output probabilities for test data\u001b[0m\u001b[1;33m\u001b[0m\u001b[1;33m\u001b[0m\u001b[0m\n\u001b[0;32m      6\u001b[0m \u001b[0mpred_y_rf\u001b[0m\u001b[1;33m=\u001b[0m\u001b[0mclf\u001b[0m\u001b[1;33m.\u001b[0m\u001b[0mpredict\u001b[0m\u001b[1;33m(\u001b[0m\u001b[0mX_test\u001b[0m\u001b[1;33m)\u001b[0m\u001b[1;33m\u001b[0m\u001b[1;33m\u001b[0m\u001b[0m\n",
      "\u001b[1;32m~\\Anaconda3\\lib\\site-packages\\sklearn\\ensemble\\forest.py\u001b[0m in \u001b[0;36mfit\u001b[1;34m(self, X, y, sample_weight)\u001b[0m\n\u001b[0;32m    328\u001b[0m                     \u001b[0mt\u001b[0m\u001b[1;33m,\u001b[0m \u001b[0mself\u001b[0m\u001b[1;33m,\u001b[0m \u001b[0mX\u001b[0m\u001b[1;33m,\u001b[0m \u001b[0my\u001b[0m\u001b[1;33m,\u001b[0m \u001b[0msample_weight\u001b[0m\u001b[1;33m,\u001b[0m \u001b[0mi\u001b[0m\u001b[1;33m,\u001b[0m \u001b[0mlen\u001b[0m\u001b[1;33m(\u001b[0m\u001b[0mtrees\u001b[0m\u001b[1;33m)\u001b[0m\u001b[1;33m,\u001b[0m\u001b[1;33m\u001b[0m\u001b[1;33m\u001b[0m\u001b[0m\n\u001b[0;32m    329\u001b[0m                     verbose=self.verbose, class_weight=self.class_weight)\n\u001b[1;32m--> 330\u001b[1;33m                 for i, t in enumerate(trees))\n\u001b[0m\u001b[0;32m    331\u001b[0m \u001b[1;33m\u001b[0m\u001b[0m\n\u001b[0;32m    332\u001b[0m             \u001b[1;31m# Collect newly grown trees\u001b[0m\u001b[1;33m\u001b[0m\u001b[1;33m\u001b[0m\u001b[1;33m\u001b[0m\u001b[0m\n",
      "\u001b[1;32m~\\Anaconda3\\lib\\site-packages\\joblib\\parallel.py\u001b[0m in \u001b[0;36m__call__\u001b[1;34m(self, iterable)\u001b[0m\n\u001b[0;32m    932\u001b[0m \u001b[1;33m\u001b[0m\u001b[0m\n\u001b[0;32m    933\u001b[0m             \u001b[1;32mwith\u001b[0m \u001b[0mself\u001b[0m\u001b[1;33m.\u001b[0m\u001b[0m_backend\u001b[0m\u001b[1;33m.\u001b[0m\u001b[0mretrieval_context\u001b[0m\u001b[1;33m(\u001b[0m\u001b[1;33m)\u001b[0m\u001b[1;33m:\u001b[0m\u001b[1;33m\u001b[0m\u001b[1;33m\u001b[0m\u001b[0m\n\u001b[1;32m--> 934\u001b[1;33m                 \u001b[0mself\u001b[0m\u001b[1;33m.\u001b[0m\u001b[0mretrieve\u001b[0m\u001b[1;33m(\u001b[0m\u001b[1;33m)\u001b[0m\u001b[1;33m\u001b[0m\u001b[1;33m\u001b[0m\u001b[0m\n\u001b[0m\u001b[0;32m    935\u001b[0m             \u001b[1;31m# Make sure that we get a last message telling us we are done\u001b[0m\u001b[1;33m\u001b[0m\u001b[1;33m\u001b[0m\u001b[1;33m\u001b[0m\u001b[0m\n\u001b[0;32m    936\u001b[0m             \u001b[0melapsed_time\u001b[0m \u001b[1;33m=\u001b[0m \u001b[0mtime\u001b[0m\u001b[1;33m.\u001b[0m\u001b[0mtime\u001b[0m\u001b[1;33m(\u001b[0m\u001b[1;33m)\u001b[0m \u001b[1;33m-\u001b[0m \u001b[0mself\u001b[0m\u001b[1;33m.\u001b[0m\u001b[0m_start_time\u001b[0m\u001b[1;33m\u001b[0m\u001b[1;33m\u001b[0m\u001b[0m\n",
      "\u001b[1;32m~\\Anaconda3\\lib\\site-packages\\joblib\\parallel.py\u001b[0m in \u001b[0;36mretrieve\u001b[1;34m(self)\u001b[0m\n\u001b[0;32m    831\u001b[0m             \u001b[1;32mtry\u001b[0m\u001b[1;33m:\u001b[0m\u001b[1;33m\u001b[0m\u001b[1;33m\u001b[0m\u001b[0m\n\u001b[0;32m    832\u001b[0m                 \u001b[1;32mif\u001b[0m \u001b[0mgetattr\u001b[0m\u001b[1;33m(\u001b[0m\u001b[0mself\u001b[0m\u001b[1;33m.\u001b[0m\u001b[0m_backend\u001b[0m\u001b[1;33m,\u001b[0m \u001b[1;34m'supports_timeout'\u001b[0m\u001b[1;33m,\u001b[0m \u001b[1;32mFalse\u001b[0m\u001b[1;33m)\u001b[0m\u001b[1;33m:\u001b[0m\u001b[1;33m\u001b[0m\u001b[1;33m\u001b[0m\u001b[0m\n\u001b[1;32m--> 833\u001b[1;33m                     \u001b[0mself\u001b[0m\u001b[1;33m.\u001b[0m\u001b[0m_output\u001b[0m\u001b[1;33m.\u001b[0m\u001b[0mextend\u001b[0m\u001b[1;33m(\u001b[0m\u001b[0mjob\u001b[0m\u001b[1;33m.\u001b[0m\u001b[0mget\u001b[0m\u001b[1;33m(\u001b[0m\u001b[0mtimeout\u001b[0m\u001b[1;33m=\u001b[0m\u001b[0mself\u001b[0m\u001b[1;33m.\u001b[0m\u001b[0mtimeout\u001b[0m\u001b[1;33m)\u001b[0m\u001b[1;33m)\u001b[0m\u001b[1;33m\u001b[0m\u001b[1;33m\u001b[0m\u001b[0m\n\u001b[0m\u001b[0;32m    834\u001b[0m                 \u001b[1;32melse\u001b[0m\u001b[1;33m:\u001b[0m\u001b[1;33m\u001b[0m\u001b[1;33m\u001b[0m\u001b[0m\n\u001b[0;32m    835\u001b[0m                     \u001b[0mself\u001b[0m\u001b[1;33m.\u001b[0m\u001b[0m_output\u001b[0m\u001b[1;33m.\u001b[0m\u001b[0mextend\u001b[0m\u001b[1;33m(\u001b[0m\u001b[0mjob\u001b[0m\u001b[1;33m.\u001b[0m\u001b[0mget\u001b[0m\u001b[1;33m(\u001b[0m\u001b[1;33m)\u001b[0m\u001b[1;33m)\u001b[0m\u001b[1;33m\u001b[0m\u001b[1;33m\u001b[0m\u001b[0m\n",
      "\u001b[1;32m~\\Anaconda3\\lib\\multiprocessing\\pool.py\u001b[0m in \u001b[0;36mget\u001b[1;34m(self, timeout)\u001b[0m\n\u001b[0;32m    655\u001b[0m             \u001b[1;32mreturn\u001b[0m \u001b[0mself\u001b[0m\u001b[1;33m.\u001b[0m\u001b[0m_value\u001b[0m\u001b[1;33m\u001b[0m\u001b[1;33m\u001b[0m\u001b[0m\n\u001b[0;32m    656\u001b[0m         \u001b[1;32melse\u001b[0m\u001b[1;33m:\u001b[0m\u001b[1;33m\u001b[0m\u001b[1;33m\u001b[0m\u001b[0m\n\u001b[1;32m--> 657\u001b[1;33m             \u001b[1;32mraise\u001b[0m \u001b[0mself\u001b[0m\u001b[1;33m.\u001b[0m\u001b[0m_value\u001b[0m\u001b[1;33m\u001b[0m\u001b[1;33m\u001b[0m\u001b[0m\n\u001b[0m\u001b[0;32m    658\u001b[0m \u001b[1;33m\u001b[0m\u001b[0m\n\u001b[0;32m    659\u001b[0m     \u001b[1;32mdef\u001b[0m \u001b[0m_set\u001b[0m\u001b[1;33m(\u001b[0m\u001b[0mself\u001b[0m\u001b[1;33m,\u001b[0m \u001b[0mi\u001b[0m\u001b[1;33m,\u001b[0m \u001b[0mobj\u001b[0m\u001b[1;33m)\u001b[0m\u001b[1;33m:\u001b[0m\u001b[1;33m\u001b[0m\u001b[1;33m\u001b[0m\u001b[0m\n",
      "\u001b[1;32m~\\Anaconda3\\lib\\multiprocessing\\pool.py\u001b[0m in \u001b[0;36mworker\u001b[1;34m(inqueue, outqueue, initializer, initargs, maxtasks, wrap_exception)\u001b[0m\n\u001b[0;32m    119\u001b[0m         \u001b[0mjob\u001b[0m\u001b[1;33m,\u001b[0m \u001b[0mi\u001b[0m\u001b[1;33m,\u001b[0m \u001b[0mfunc\u001b[0m\u001b[1;33m,\u001b[0m \u001b[0margs\u001b[0m\u001b[1;33m,\u001b[0m \u001b[0mkwds\u001b[0m \u001b[1;33m=\u001b[0m \u001b[0mtask\u001b[0m\u001b[1;33m\u001b[0m\u001b[1;33m\u001b[0m\u001b[0m\n\u001b[0;32m    120\u001b[0m         \u001b[1;32mtry\u001b[0m\u001b[1;33m:\u001b[0m\u001b[1;33m\u001b[0m\u001b[1;33m\u001b[0m\u001b[0m\n\u001b[1;32m--> 121\u001b[1;33m             \u001b[0mresult\u001b[0m \u001b[1;33m=\u001b[0m \u001b[1;33m(\u001b[0m\u001b[1;32mTrue\u001b[0m\u001b[1;33m,\u001b[0m \u001b[0mfunc\u001b[0m\u001b[1;33m(\u001b[0m\u001b[1;33m*\u001b[0m\u001b[0margs\u001b[0m\u001b[1;33m,\u001b[0m \u001b[1;33m**\u001b[0m\u001b[0mkwds\u001b[0m\u001b[1;33m)\u001b[0m\u001b[1;33m)\u001b[0m\u001b[1;33m\u001b[0m\u001b[1;33m\u001b[0m\u001b[0m\n\u001b[0m\u001b[0;32m    122\u001b[0m         \u001b[1;32mexcept\u001b[0m \u001b[0mException\u001b[0m \u001b[1;32mas\u001b[0m \u001b[0me\u001b[0m\u001b[1;33m:\u001b[0m\u001b[1;33m\u001b[0m\u001b[1;33m\u001b[0m\u001b[0m\n\u001b[0;32m    123\u001b[0m             \u001b[1;32mif\u001b[0m \u001b[0mwrap_exception\u001b[0m \u001b[1;32mand\u001b[0m \u001b[0mfunc\u001b[0m \u001b[1;32mis\u001b[0m \u001b[1;32mnot\u001b[0m \u001b[0m_helper_reraises_exception\u001b[0m\u001b[1;33m:\u001b[0m\u001b[1;33m\u001b[0m\u001b[1;33m\u001b[0m\u001b[0m\n",
      "\u001b[1;32m~\\Anaconda3\\lib\\site-packages\\joblib\\_parallel_backends.py\u001b[0m in \u001b[0;36m__call__\u001b[1;34m(self, *args, **kwargs)\u001b[0m\n\u001b[0;32m    565\u001b[0m     \u001b[1;32mdef\u001b[0m \u001b[0m__call__\u001b[0m\u001b[1;33m(\u001b[0m\u001b[0mself\u001b[0m\u001b[1;33m,\u001b[0m \u001b[1;33m*\u001b[0m\u001b[0margs\u001b[0m\u001b[1;33m,\u001b[0m \u001b[1;33m**\u001b[0m\u001b[0mkwargs\u001b[0m\u001b[1;33m)\u001b[0m\u001b[1;33m:\u001b[0m\u001b[1;33m\u001b[0m\u001b[1;33m\u001b[0m\u001b[0m\n\u001b[0;32m    566\u001b[0m         \u001b[1;32mtry\u001b[0m\u001b[1;33m:\u001b[0m\u001b[1;33m\u001b[0m\u001b[1;33m\u001b[0m\u001b[0m\n\u001b[1;32m--> 567\u001b[1;33m             \u001b[1;32mreturn\u001b[0m \u001b[0mself\u001b[0m\u001b[1;33m.\u001b[0m\u001b[0mfunc\u001b[0m\u001b[1;33m(\u001b[0m\u001b[1;33m*\u001b[0m\u001b[0margs\u001b[0m\u001b[1;33m,\u001b[0m \u001b[1;33m**\u001b[0m\u001b[0mkwargs\u001b[0m\u001b[1;33m)\u001b[0m\u001b[1;33m\u001b[0m\u001b[1;33m\u001b[0m\u001b[0m\n\u001b[0m\u001b[0;32m    568\u001b[0m         \u001b[1;32mexcept\u001b[0m \u001b[0mKeyboardInterrupt\u001b[0m\u001b[1;33m:\u001b[0m\u001b[1;33m\u001b[0m\u001b[1;33m\u001b[0m\u001b[0m\n\u001b[0;32m    569\u001b[0m             \u001b[1;31m# We capture the KeyboardInterrupt and reraise it as\u001b[0m\u001b[1;33m\u001b[0m\u001b[1;33m\u001b[0m\u001b[1;33m\u001b[0m\u001b[0m\n",
      "\u001b[1;32m~\\Anaconda3\\lib\\site-packages\\joblib\\parallel.py\u001b[0m in \u001b[0;36m__call__\u001b[1;34m(self)\u001b[0m\n\u001b[0;32m    223\u001b[0m         \u001b[1;32mwith\u001b[0m \u001b[0mparallel_backend\u001b[0m\u001b[1;33m(\u001b[0m\u001b[0mself\u001b[0m\u001b[1;33m.\u001b[0m\u001b[0m_backend\u001b[0m\u001b[1;33m,\u001b[0m \u001b[0mn_jobs\u001b[0m\u001b[1;33m=\u001b[0m\u001b[0mself\u001b[0m\u001b[1;33m.\u001b[0m\u001b[0m_n_jobs\u001b[0m\u001b[1;33m)\u001b[0m\u001b[1;33m:\u001b[0m\u001b[1;33m\u001b[0m\u001b[1;33m\u001b[0m\u001b[0m\n\u001b[0;32m    224\u001b[0m             return [func(*args, **kwargs)\n\u001b[1;32m--> 225\u001b[1;33m                     for func, args, kwargs in self.items]\n\u001b[0m\u001b[0;32m    226\u001b[0m \u001b[1;33m\u001b[0m\u001b[0m\n\u001b[0;32m    227\u001b[0m     \u001b[1;32mdef\u001b[0m \u001b[0m__len__\u001b[0m\u001b[1;33m(\u001b[0m\u001b[0mself\u001b[0m\u001b[1;33m)\u001b[0m\u001b[1;33m:\u001b[0m\u001b[1;33m\u001b[0m\u001b[1;33m\u001b[0m\u001b[0m\n",
      "\u001b[1;32m~\\Anaconda3\\lib\\site-packages\\joblib\\parallel.py\u001b[0m in \u001b[0;36m<listcomp>\u001b[1;34m(.0)\u001b[0m\n\u001b[0;32m    223\u001b[0m         \u001b[1;32mwith\u001b[0m \u001b[0mparallel_backend\u001b[0m\u001b[1;33m(\u001b[0m\u001b[0mself\u001b[0m\u001b[1;33m.\u001b[0m\u001b[0m_backend\u001b[0m\u001b[1;33m,\u001b[0m \u001b[0mn_jobs\u001b[0m\u001b[1;33m=\u001b[0m\u001b[0mself\u001b[0m\u001b[1;33m.\u001b[0m\u001b[0m_n_jobs\u001b[0m\u001b[1;33m)\u001b[0m\u001b[1;33m:\u001b[0m\u001b[1;33m\u001b[0m\u001b[1;33m\u001b[0m\u001b[0m\n\u001b[0;32m    224\u001b[0m             return [func(*args, **kwargs)\n\u001b[1;32m--> 225\u001b[1;33m                     for func, args, kwargs in self.items]\n\u001b[0m\u001b[0;32m    226\u001b[0m \u001b[1;33m\u001b[0m\u001b[0m\n\u001b[0;32m    227\u001b[0m     \u001b[1;32mdef\u001b[0m \u001b[0m__len__\u001b[0m\u001b[1;33m(\u001b[0m\u001b[0mself\u001b[0m\u001b[1;33m)\u001b[0m\u001b[1;33m:\u001b[0m\u001b[1;33m\u001b[0m\u001b[1;33m\u001b[0m\u001b[0m\n",
      "\u001b[1;32m~\\Anaconda3\\lib\\site-packages\\sklearn\\ensemble\\forest.py\u001b[0m in \u001b[0;36m_parallel_build_trees\u001b[1;34m(tree, forest, X, y, sample_weight, tree_idx, n_trees, verbose, class_weight)\u001b[0m\n\u001b[0;32m    116\u001b[0m             \u001b[0mcurr_sample_weight\u001b[0m \u001b[1;33m*=\u001b[0m \u001b[0mcompute_sample_weight\u001b[0m\u001b[1;33m(\u001b[0m\u001b[1;34m'balanced'\u001b[0m\u001b[1;33m,\u001b[0m \u001b[0my\u001b[0m\u001b[1;33m,\u001b[0m \u001b[0mindices\u001b[0m\u001b[1;33m)\u001b[0m\u001b[1;33m\u001b[0m\u001b[1;33m\u001b[0m\u001b[0m\n\u001b[0;32m    117\u001b[0m \u001b[1;33m\u001b[0m\u001b[0m\n\u001b[1;32m--> 118\u001b[1;33m         \u001b[0mtree\u001b[0m\u001b[1;33m.\u001b[0m\u001b[0mfit\u001b[0m\u001b[1;33m(\u001b[0m\u001b[0mX\u001b[0m\u001b[1;33m,\u001b[0m \u001b[0my\u001b[0m\u001b[1;33m,\u001b[0m \u001b[0msample_weight\u001b[0m\u001b[1;33m=\u001b[0m\u001b[0mcurr_sample_weight\u001b[0m\u001b[1;33m,\u001b[0m \u001b[0mcheck_input\u001b[0m\u001b[1;33m=\u001b[0m\u001b[1;32mFalse\u001b[0m\u001b[1;33m)\u001b[0m\u001b[1;33m\u001b[0m\u001b[1;33m\u001b[0m\u001b[0m\n\u001b[0m\u001b[0;32m    119\u001b[0m     \u001b[1;32melse\u001b[0m\u001b[1;33m:\u001b[0m\u001b[1;33m\u001b[0m\u001b[1;33m\u001b[0m\u001b[0m\n\u001b[0;32m    120\u001b[0m         \u001b[0mtree\u001b[0m\u001b[1;33m.\u001b[0m\u001b[0mfit\u001b[0m\u001b[1;33m(\u001b[0m\u001b[0mX\u001b[0m\u001b[1;33m,\u001b[0m \u001b[0my\u001b[0m\u001b[1;33m,\u001b[0m \u001b[0msample_weight\u001b[0m\u001b[1;33m=\u001b[0m\u001b[0msample_weight\u001b[0m\u001b[1;33m,\u001b[0m \u001b[0mcheck_input\u001b[0m\u001b[1;33m=\u001b[0m\u001b[1;32mFalse\u001b[0m\u001b[1;33m)\u001b[0m\u001b[1;33m\u001b[0m\u001b[1;33m\u001b[0m\u001b[0m\n",
      "\u001b[1;32m~\\Anaconda3\\lib\\site-packages\\sklearn\\tree\\tree.py\u001b[0m in \u001b[0;36mfit\u001b[1;34m(self, X, y, sample_weight, check_input, X_idx_sorted)\u001b[0m\n\u001b[0;32m    814\u001b[0m             \u001b[0msample_weight\u001b[0m\u001b[1;33m=\u001b[0m\u001b[0msample_weight\u001b[0m\u001b[1;33m,\u001b[0m\u001b[1;33m\u001b[0m\u001b[1;33m\u001b[0m\u001b[0m\n\u001b[0;32m    815\u001b[0m             \u001b[0mcheck_input\u001b[0m\u001b[1;33m=\u001b[0m\u001b[0mcheck_input\u001b[0m\u001b[1;33m,\u001b[0m\u001b[1;33m\u001b[0m\u001b[1;33m\u001b[0m\u001b[0m\n\u001b[1;32m--> 816\u001b[1;33m             X_idx_sorted=X_idx_sorted)\n\u001b[0m\u001b[0;32m    817\u001b[0m         \u001b[1;32mreturn\u001b[0m \u001b[0mself\u001b[0m\u001b[1;33m\u001b[0m\u001b[1;33m\u001b[0m\u001b[0m\n\u001b[0;32m    818\u001b[0m \u001b[1;33m\u001b[0m\u001b[0m\n",
      "\u001b[1;32m~\\Anaconda3\\lib\\site-packages\\sklearn\\tree\\tree.py\u001b[0m in \u001b[0;36mfit\u001b[1;34m(self, X, y, sample_weight, check_input, X_idx_sorted)\u001b[0m\n\u001b[0;32m    378\u001b[0m                                            min_impurity_split)\n\u001b[0;32m    379\u001b[0m \u001b[1;33m\u001b[0m\u001b[0m\n\u001b[1;32m--> 380\u001b[1;33m         \u001b[0mbuilder\u001b[0m\u001b[1;33m.\u001b[0m\u001b[0mbuild\u001b[0m\u001b[1;33m(\u001b[0m\u001b[0mself\u001b[0m\u001b[1;33m.\u001b[0m\u001b[0mtree_\u001b[0m\u001b[1;33m,\u001b[0m \u001b[0mX\u001b[0m\u001b[1;33m,\u001b[0m \u001b[0my\u001b[0m\u001b[1;33m,\u001b[0m \u001b[0msample_weight\u001b[0m\u001b[1;33m,\u001b[0m \u001b[0mX_idx_sorted\u001b[0m\u001b[1;33m)\u001b[0m\u001b[1;33m\u001b[0m\u001b[1;33m\u001b[0m\u001b[0m\n\u001b[0m\u001b[0;32m    381\u001b[0m \u001b[1;33m\u001b[0m\u001b[0m\n\u001b[0;32m    382\u001b[0m         \u001b[1;32mif\u001b[0m \u001b[0mself\u001b[0m\u001b[1;33m.\u001b[0m\u001b[0mn_outputs_\u001b[0m \u001b[1;33m==\u001b[0m \u001b[1;36m1\u001b[0m\u001b[1;33m:\u001b[0m\u001b[1;33m\u001b[0m\u001b[1;33m\u001b[0m\u001b[0m\n",
      "\u001b[1;32msklearn\\tree\\_tree.pyx\u001b[0m in \u001b[0;36msklearn.tree._tree.DepthFirstTreeBuilder.build\u001b[1;34m()\u001b[0m\n",
      "\u001b[1;32msklearn\\tree\\_tree.pyx\u001b[0m in \u001b[0;36msklearn.tree._tree.DepthFirstTreeBuilder.build\u001b[1;34m()\u001b[0m\n",
      "\u001b[1;32msklearn\\tree\\_tree.pyx\u001b[0m in \u001b[0;36msklearn.tree._tree.Tree._add_node\u001b[1;34m()\u001b[0m\n",
      "\u001b[1;32msklearn\\tree\\_tree.pyx\u001b[0m in \u001b[0;36msklearn.tree._tree.Tree._resize_c\u001b[1;34m()\u001b[0m\n",
      "\u001b[1;32msklearn\\tree\\_utils.pyx\u001b[0m in \u001b[0;36msklearn.tree._utils.safe_realloc\u001b[1;34m()\u001b[0m\n",
      "\u001b[1;31mMemoryError\u001b[0m: could not allocate 7545552896 bytes"
     ]
    }
   ],
   "source": [
    "import time\n",
    "s=time.time()\n",
    "clf=RandomForestClassifier(n_estimators=100, max_depth = None, random_state=0,n_jobs=-1,max_features='sqrt')\n",
    "clf.fit(X_train,y_train)\n",
    "predprob_y_rf=clf.predict_proba(X_test)# output probabilities for test data\n",
    "pred_y_rf=clf.predict(X_test)\n",
    "print('Model fitted in {:.2f} seconds'.format(time.time()-s))\n",
    "clf.score\n",
    "clf.classes_\n",
    "print('Score:', clf.score(X_test, y_test))\n",
    "#print('classes', clf.classes_)\n",
    "#print('The test accuracy is {} and logloss is {}'.format(clf.score(X_test,y_test),log_loss(y_test, predprob_y_rf)))"
   ]
  },
  {
   "cell_type": "code",
   "execution_count": 30,
   "metadata": {
    "collapsed": true,
    "jupyter": {
     "outputs_hidden": true
    }
   },
   "outputs": [
    {
     "ename": "ValueError",
     "evalue": "y_true and y_pred contain different number of classes 616, 821. Please provide the true labels explicitly through the labels argument. Classes found in y_true: [   0    1    2    3    4    5    6    7    8    9   10   11   12   13\n   14   15   16   17   18   19   20   21   22   23   24   25   26   27\n   28   29   30   31   32   33   34   35   36   37   38   39   40   41\n   42   43   44   45   46   47   48   49   50   51   52   53   54   55\n   56   57   58   59   60   61   62   63   64   65   66   67   68   69\n   70   71   72   73   74   75   76   77   78   79   80   81   82   83\n   84   85   86   87   88   89   90   91   92   93   94   95   96   97\n   98   99  100  101  102  103  104  105  106  107  108  109  110  111\n  112  113  114  115  116  117  118  119  120  121  122  123  124  125\n  126  127  128  129  130  131  132  133  134  135  136  137  138  139\n  140  141  142  143  144  145  146  147  148  149  150  151  152  153\n  154  155  156  157  158  159  160  161  162  163  164  165  166  167\n  168  169  170  171  172  173  174  175  176  177  178  179  180  181\n  182  183  184  185  186  187  188  189  190  191  192  193  194  195\n  196  197  198  199  200  201  202  203  204  205  206  207  208  209\n  210  211  212  213  214  215  216  217  218  219  220  221  222  223\n  224  225  226  227  228  229  230  231  232  233  234  235  236  237\n  238  239  240  241  242  243  244  245  246  247  248  249  250  251\n  252  253  254  255  256  257  258  259  260  261  262  263  264  265\n  266  267  268  269  270  271  272  273  274  275  276  277  278  279\n  280  281  282  283  284  285  286  287  288  289  290  291  292  293\n  294  295  296  297  298  299  300  301  302  303  304  305  306  307\n  308  309  310  311  312  313  314  315  316  317  318  319  320  321\n  322  323  324  325  326  327  328  331  332  333  334  335  336  337\n  338  339  340  341  342  343  344  345  346  347  348  349  350  352\n  353  355  356  357  358  359  360  361  362  363  364  365  366  367\n  368  369  370  371  372  373  374  376  377  378  379  380  381  382\n  383  384  385  386  387  388  389  390  391  392  393  394  395  396\n  397  398  399  400  401  402  403  404  405  407  408  409  410  411\n  412  413  414  415  417  418  420  421  422  424  425  426  427  429\n  431  433  434  435  436  437  438  439  440  442  444  445  446  449\n  450  451  452  453  454  455  459  460  462  464  466  467  468  469\n  471  473  474  476  479  481  482  483  485  488  491  492  493  494\n  496  497  501  504  506  507  508  509  512  513  515  516  518  527\n  530  531  537  538  539  540  543  544  545  549  551  552  553  554\n  557  558  560  561  562  566  569  570  575  576  578  580  582  584\n  586  589  590  592  594  596  600  605  607  608  615  619  620  625\n  627  632  636  645  646  648  649  653  655  656  661  665  666  670\n  674  675  679  682  684  687  691  705  707  713  714  717  726  733\n  736  742  758  767  770  771  774  776  777  785  790  792  807  812\n  824  839  861  871  880  914  923  940  942  943  951  957  968  976\n  978  981  997 1001 1011 1036 1038 1043 1044 1099 1101 1120 1128 1136\n 1141 1189 1192 1259 1285 1309 1341 1422 1465 1519 1538 1564 1581 1586\n 1645 1809 2032 2042 2282 2327 2329 2752 2887 3734 3757 3792 6826 9144]",
     "output_type": "error",
     "traceback": [
      "\u001b[1;31m---------------------------------------------------------------------------\u001b[0m",
      "\u001b[1;31mValueError\u001b[0m                                Traceback (most recent call last)",
      "\u001b[1;32m<ipython-input-30-de72635641f9>\u001b[0m in \u001b[0;36m<module>\u001b[1;34m\u001b[0m\n\u001b[1;32m----> 1\u001b[1;33m \u001b[0mprint\u001b[0m\u001b[1;33m(\u001b[0m\u001b[1;34m'The test accuracy is {} and logloss is {}'\u001b[0m\u001b[1;33m.\u001b[0m\u001b[0mformat\u001b[0m\u001b[1;33m(\u001b[0m\u001b[0mclf\u001b[0m\u001b[1;33m.\u001b[0m\u001b[0mscore\u001b[0m\u001b[1;33m(\u001b[0m\u001b[0mX_test\u001b[0m\u001b[1;33m,\u001b[0m\u001b[0my_test\u001b[0m\u001b[1;33m)\u001b[0m\u001b[1;33m,\u001b[0m\u001b[0mlog_loss\u001b[0m\u001b[1;33m(\u001b[0m\u001b[0my_test\u001b[0m\u001b[1;33m,\u001b[0m \u001b[0mpredprob_y_rf\u001b[0m\u001b[1;33m)\u001b[0m\u001b[1;33m)\u001b[0m\u001b[1;33m)\u001b[0m\u001b[1;33m\u001b[0m\u001b[1;33m\u001b[0m\u001b[0m\n\u001b[0m",
      "\u001b[1;32m~\\Anaconda3\\lib\\site-packages\\sklearn\\metrics\\classification.py\u001b[0m in \u001b[0;36mlog_loss\u001b[1;34m(y_true, y_pred, eps, normalize, sample_weight, labels)\u001b[0m\n\u001b[0;32m   2164\u001b[0m                              \"y_true: {2}\".format(transformed_labels.shape[1],\n\u001b[0;32m   2165\u001b[0m                                                   \u001b[0my_pred\u001b[0m\u001b[1;33m.\u001b[0m\u001b[0mshape\u001b[0m\u001b[1;33m[\u001b[0m\u001b[1;36m1\u001b[0m\u001b[1;33m]\u001b[0m\u001b[1;33m,\u001b[0m\u001b[1;33m\u001b[0m\u001b[1;33m\u001b[0m\u001b[0m\n\u001b[1;32m-> 2166\u001b[1;33m                                                   lb.classes_))\n\u001b[0m\u001b[0;32m   2167\u001b[0m         \u001b[1;32melse\u001b[0m\u001b[1;33m:\u001b[0m\u001b[1;33m\u001b[0m\u001b[1;33m\u001b[0m\u001b[0m\n\u001b[0;32m   2168\u001b[0m             raise ValueError('The number of classes in labels is different '\n",
      "\u001b[1;31mValueError\u001b[0m: y_true and y_pred contain different number of classes 616, 821. Please provide the true labels explicitly through the labels argument. Classes found in y_true: [   0    1    2    3    4    5    6    7    8    9   10   11   12   13\n   14   15   16   17   18   19   20   21   22   23   24   25   26   27\n   28   29   30   31   32   33   34   35   36   37   38   39   40   41\n   42   43   44   45   46   47   48   49   50   51   52   53   54   55\n   56   57   58   59   60   61   62   63   64   65   66   67   68   69\n   70   71   72   73   74   75   76   77   78   79   80   81   82   83\n   84   85   86   87   88   89   90   91   92   93   94   95   96   97\n   98   99  100  101  102  103  104  105  106  107  108  109  110  111\n  112  113  114  115  116  117  118  119  120  121  122  123  124  125\n  126  127  128  129  130  131  132  133  134  135  136  137  138  139\n  140  141  142  143  144  145  146  147  148  149  150  151  152  153\n  154  155  156  157  158  159  160  161  162  163  164  165  166  167\n  168  169  170  171  172  173  174  175  176  177  178  179  180  181\n  182  183  184  185  186  187  188  189  190  191  192  193  194  195\n  196  197  198  199  200  201  202  203  204  205  206  207  208  209\n  210  211  212  213  214  215  216  217  218  219  220  221  222  223\n  224  225  226  227  228  229  230  231  232  233  234  235  236  237\n  238  239  240  241  242  243  244  245  246  247  248  249  250  251\n  252  253  254  255  256  257  258  259  260  261  262  263  264  265\n  266  267  268  269  270  271  272  273  274  275  276  277  278  279\n  280  281  282  283  284  285  286  287  288  289  290  291  292  293\n  294  295  296  297  298  299  300  301  302  303  304  305  306  307\n  308  309  310  311  312  313  314  315  316  317  318  319  320  321\n  322  323  324  325  326  327  328  331  332  333  334  335  336  337\n  338  339  340  341  342  343  344  345  346  347  348  349  350  352\n  353  355  356  357  358  359  360  361  362  363  364  365  366  367\n  368  369  370  371  372  373  374  376  377  378  379  380  381  382\n  383  384  385  386  387  388  389  390  391  392  393  394  395  396\n  397  398  399  400  401  402  403  404  405  407  408  409  410  411\n  412  413  414  415  417  418  420  421  422  424  425  426  427  429\n  431  433  434  435  436  437  438  439  440  442  444  445  446  449\n  450  451  452  453  454  455  459  460  462  464  466  467  468  469\n  471  473  474  476  479  481  482  483  485  488  491  492  493  494\n  496  497  501  504  506  507  508  509  512  513  515  516  518  527\n  530  531  537  538  539  540  543  544  545  549  551  552  553  554\n  557  558  560  561  562  566  569  570  575  576  578  580  582  584\n  586  589  590  592  594  596  600  605  607  608  615  619  620  625\n  627  632  636  645  646  648  649  653  655  656  661  665  666  670\n  674  675  679  682  684  687  691  705  707  713  714  717  726  733\n  736  742  758  767  770  771  774  776  777  785  790  792  807  812\n  824  839  861  871  880  914  923  940  942  943  951  957  968  976\n  978  981  997 1001 1011 1036 1038 1043 1044 1099 1101 1120 1128 1136\n 1141 1189 1192 1259 1285 1309 1341 1422 1465 1519 1538 1564 1581 1586\n 1645 1809 2032 2042 2282 2327 2329 2752 2887 3734 3757 3792 6826 9144]"
     ]
    }
   ],
   "source": []
  },
  {
   "cell_type": "code",
   "execution_count": 22,
   "metadata": {},
   "outputs": [
    {
     "ename": "NameError",
     "evalue": "name 'RandomForestClassifier' is not defined",
     "output_type": "error",
     "traceback": [
      "\u001b[1;31m---------------------------------------------------------------------------\u001b[0m",
      "\u001b[1;31mNameError\u001b[0m                                 Traceback (most recent call last)",
      "\u001b[1;32m<ipython-input-22-9089e80203aa>\u001b[0m in \u001b[0;36m<module>\u001b[1;34m\u001b[0m\n\u001b[0;32m      3\u001b[0m \u001b[0mresults\u001b[0m\u001b[1;33m=\u001b[0m\u001b[1;33m[\u001b[0m\u001b[1;33m]\u001b[0m\u001b[1;33m\u001b[0m\u001b[1;33m\u001b[0m\u001b[0m\n\u001b[0;32m      4\u001b[0m \u001b[1;32mfor\u001b[0m \u001b[0mn\u001b[0m \u001b[1;32min\u001b[0m \u001b[0mrange\u001b[0m\u001b[1;33m(\u001b[0m\u001b[1;36m1\u001b[0m\u001b[1;33m,\u001b[0m\u001b[1;36m10\u001b[0m\u001b[1;33m,\u001b[0m\u001b[1;36m2\u001b[0m\u001b[1;33m)\u001b[0m\u001b[1;33m:\u001b[0m\u001b[1;33m\u001b[0m\u001b[1;33m\u001b[0m\u001b[0m\n\u001b[1;32m----> 5\u001b[1;33m     \u001b[0mclf\u001b[0m\u001b[1;33m=\u001b[0m\u001b[0mRandomForestClassifier\u001b[0m\u001b[1;33m(\u001b[0m\u001b[0mn_estimators\u001b[0m\u001b[1;33m=\u001b[0m\u001b[0mn\u001b[0m\u001b[1;33m,\u001b[0m \u001b[0mrandom_state\u001b[0m\u001b[1;33m=\u001b[0m\u001b[1;36m0\u001b[0m\u001b[1;33m,\u001b[0m\u001b[0mn_jobs\u001b[0m\u001b[1;33m=\u001b[0m\u001b[1;33m-\u001b[0m\u001b[1;36m1\u001b[0m\u001b[1;33m)\u001b[0m\u001b[1;33m\u001b[0m\u001b[1;33m\u001b[0m\u001b[0m\n\u001b[0m\u001b[0;32m      6\u001b[0m     \u001b[0mclf\u001b[0m\u001b[1;33m.\u001b[0m\u001b[0mfit\u001b[0m\u001b[1;33m(\u001b[0m\u001b[0mX_train\u001b[0m\u001b[1;33m,\u001b[0m\u001b[0my_train\u001b[0m\u001b[1;33m)\u001b[0m\u001b[1;33m\u001b[0m\u001b[1;33m\u001b[0m\u001b[0m\n\u001b[0;32m      7\u001b[0m     \u001b[0mpredprob_y\u001b[0m\u001b[1;33m=\u001b[0m\u001b[0mclf\u001b[0m\u001b[1;33m.\u001b[0m\u001b[0mpredict_proba\u001b[0m\u001b[1;33m(\u001b[0m\u001b[0mX_test\u001b[0m\u001b[1;33m)\u001b[0m\u001b[1;31m# output probabilities for test data\u001b[0m\u001b[1;33m\u001b[0m\u001b[1;33m\u001b[0m\u001b[0m\n",
      "\u001b[1;31mNameError\u001b[0m: name 'RandomForestClassifier' is not defined"
     ]
    }
   ],
   "source": [
    "import time\n",
    "s=time.time()\n",
    "results=[]\n",
    "for n in range(1,10,2):\n",
    "    clf=RandomForestClassifier(n_estimators=n, random_state=0,n_jobs=-1)\n",
    "    clf.fit(X_train,y_train)\n",
    "    predprob_y=clf.predict_proba(X_test)# output probabilities for test data\n",
    "    results.append([clf.score(X_train,y_train),clf.score(X_test,y_test),AUC(y_test,clf.predict(X_test)),log_loss(y_test, predprob_y),log_loss(y_train, clf.predict_proba(X_train))])\n",
    "    #print('Training accuracy is {0} and test accuracy is {1}.'.format(clf.score(x1,y1),clf.score(x2,y2)))\n",
    "    #print('AUC is {}, and logloss is {}\\n'.format(AUC(y2,clf.predict(x2)),log_loss(y2, predprob_y)))\n",
    "\n",
    "print('Model fitted in {:.2f} seconds'.format(time.time()-s))\n",
    "result=pd.DataFrame(results,index=range(1,10,2),columns=['train accuracy','test accuracy','AUC','test logloss','train logloss'])  \n",
    "\n",
    "result.sort_values(by='test accuracy',inplace=True,ascending =False)\n",
    "\n",
    "result"
   ]
  },
  {
   "cell_type": "code",
   "execution_count": null,
   "metadata": {},
   "outputs": [],
   "source": []
  }
 ],
 "metadata": {
  "kernelspec": {
   "display_name": "Python 3",
   "language": "python",
   "name": "python3"
  },
  "language_info": {
   "codemirror_mode": {
    "name": "ipython",
    "version": 3
   },
   "file_extension": ".py",
   "mimetype": "text/x-python",
   "name": "python",
   "nbconvert_exporter": "python",
   "pygments_lexer": "ipython3",
   "version": "3.7.3"
  }
 },
 "nbformat": 4,
 "nbformat_minor": 4
}
